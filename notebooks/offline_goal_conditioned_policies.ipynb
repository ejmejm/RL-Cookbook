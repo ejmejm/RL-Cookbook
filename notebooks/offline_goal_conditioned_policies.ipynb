{
 "cells": [
  {
   "cell_type": "code",
   "execution_count": 1,
   "metadata": {},
   "outputs": [],
   "source": [
    "import copy\n",
    "import os\n",
    "import sys\n",
    "import time\n",
    "\n",
    "sys.path.append('..')\n",
    "\n",
    "from src.experiments.register import *\n",
    "from src.experiments.argument_handling import *\n",
    "from src.envs.creation import make_env\n",
    "from src.envs.simulation import *\n",
    "from src.utils.constants import *\n",
    "from src.agents import *\n",
    "from src.agents.base import *\n",
    "from src.agents.exploration import *\n",
    "\n",
    "import gym\n",
    "from gym_gridworld.envs.gridworld_env import GridworldEnv\n",
    "import matplotlib.pyplot as plt\n",
    "import numpy as np\n",
    "import seaborn as sns\n",
    "import torch\n",
    "from tqdm import tqdm\n",
    "\n",
    "os.environ['WANDB_SILENT'] = 'true'\n",
    "wandb.init()\n",
    "\n",
    "%matplotlib inline"
   ]
  },
  {
   "cell_type": "code",
   "execution_count": 2,
   "metadata": {},
   "outputs": [],
   "source": [
    "DEVICE = 'cuda'"
   ]
  },
  {
   "cell_type": "code",
   "execution_count": 3,
   "metadata": {},
   "outputs": [],
   "source": [
    "# env = make_env('Gridworld')\n",
    "\n",
    "# print(env.unwrapped.current_grid_map)\n",
    "\n",
    "# obs = env.reset()\n",
    "# plt.imshow(obs.squeeze())\n",
    "\n",
    "# plt.imshow(generate_random_state(env).squeeze())"
   ]
  },
  {
   "cell_type": "code",
   "execution_count": 4,
   "metadata": {},
   "outputs": [],
   "source": [
    "# Creates a state where the agent is in a random position\n",
    "def generate_random_state(env):\n",
    "    valid_state = False\n",
    "    while not valid_state:\n",
    "        state = [np.random.randint(0, env.unwrapped.grid_map_shape[0]), \\\n",
    "                 np.random.randint(0, env.unwrapped.grid_map_shape[1])]\n",
    "        # If location is empty or goal state\n",
    "        if env.unwrapped.current_grid_map[state[0], state[1]] in (0, 3):\n",
    "            valid_state = True\n",
    "    obs, _, _, _ = copy.deepcopy(env).jump_to_state(state)\n",
    "    return env.observation(obs)"
   ]
  },
  {
   "cell_type": "code",
   "execution_count": 5,
   "metadata": {},
   "outputs": [],
   "source": [
    "class NoRewardWrapper(gym.RewardWrapper):\n",
    "  def __init__(self, env):\n",
    "    super().__init__(env)\n",
    "\n",
    "  def reward(self, _):\n",
    "    return 0\n",
    "\n",
    "class NoTerminationWrapper(gym.Wrapper):\n",
    "  def __init__(self, env):\n",
    "    super().__init__(env)\n",
    "\n",
    "  def step(self, action):\n",
    "    obs, reward, done, info = self.env.step(action)\n",
    "    return obs, reward, False, info\n",
    "\n",
    "class RandomTerminationWrapper(gym.Wrapper):\n",
    "  def __init__(self, env, termination_chance=0.01):\n",
    "    super().__init__(env)\n",
    "    self.termination_chance = termination_chance\n",
    "\n",
    "  def step(self, action):\n",
    "    obs, reward, done, info = self.env.step(action)\n",
    "    if np.random.random() < self.termination_chance:\n",
    "      done = True\n",
    "    return obs, reward, done, info\n",
    "\n",
    "explore_env = \\\n",
    "  RandomTerminationWrapper(\n",
    "    NoTerminationWrapper(\n",
    "      NoRewardWrapper(\n",
    "        make_env('Gridworld'))), 0.001)"
   ]
  },
  {
   "cell_type": "code",
   "execution_count": 6,
   "metadata": {},
   "outputs": [],
   "source": [
    "# EzExplore with an experience buffer\n",
    "class ExplorerAgent(EzExplorerAgent, ExperienceBufferMixin):\n",
    "  def init(*args, **kwargs):\n",
    "    super().__init__(*args, **kwargs)\n",
    "\n",
    "  def process_step_data(self, transition_data):\n",
    "    if transition_data is not None:\n",
    "      self.append_buffer(transition_data)"
   ]
  },
  {
   "cell_type": "code",
   "execution_count": 8,
   "metadata": {},
   "outputs": [
    {
     "name": "stdout",
     "output_type": "stream",
     "text": [
      "Step: 5000 | Episodes: 3 | Ep rewards: 0.0000\n",
      "Step: 10000 | Episodes: 3 | Ep rewards: 0.0000\n",
      "Step: 15000 | Episodes: 5 | Ep rewards: 0.0000\n",
      "Step: 20000 | Episodes: 3 | Ep rewards: 0.0000\n",
      "Step: 25000 | Episodes: 1 | Ep rewards: 0.0000\n",
      "Step: 30000 | Episodes: 7 | Ep rewards: 0.0000\n",
      "Step: 35000 | Episodes: 9 | Ep rewards: 0.0000\n",
      "Step: 40000 | Episodes: 5 | Ep rewards: 0.0000\n",
      "Step: 45000 | Episodes: 4 | Ep rewards: 0.0000\n"
     ]
    }
   ],
   "source": [
    "explore_steps = 50000\n",
    "explore_print_freq = 5000\n",
    "\n",
    "explore_agent = ExplorerAgent(explore_env)\n",
    "train_exploration_model(explore_agent, explore_env, explore_steps, print_freq=explore_print_freq)"
   ]
  },
  {
   "cell_type": "markdown",
   "metadata": {},
   "source": [
    "## Goal-conditioned policy learning steps\n",
    "\n",
    "1. Create a new environment that includes the goal as part of the state\n",
    "2. Create Rainbow agent with the new env specification\n",
    "3. Use the explorer experience buffer to create random relabeled trajectories\n",
    "    - New trajectories should have new discounted rewards for the chosen goal state\n",
    "    - The chosen goal state should be concatted with the observations\n",
    "4. Add relabeled trajectories to the Rainbow agent's replay buffer\n",
    "5. Make an offline training loop for Rainbow\n"
   ]
  },
  {
   "cell_type": "code",
   "execution_count": 9,
   "metadata": {},
   "outputs": [
    {
     "data": {
      "text/plain": [
       "<matplotlib.image.AxesImage at 0x151feb32490>"
      ]
     },
     "execution_count": 9,
     "metadata": {},
     "output_type": "execute_result"
    },
    {
     "data": {
      "image/png": "[encoded data removed]",
      "text/plain": [
       "<Figure size 432x288 with 1 Axes>"
      ]
     },
     "metadata": {
      "needs_background": "light"
     },
     "output_type": "display_data"
    }
   ],
   "source": [
    "### Create a new environment that includes the goal as part of the state ###\n",
    "\n",
    "class GoalWrapper(gym.Wrapper):\n",
    "  def __init__(self, env, goal_state=None, goal_chooser=None):\n",
    "    super().__init__(env)\n",
    "    self.goal_state = goal_state\n",
    "    self.goal_chooser = goal_chooser\n",
    "    prev_shape = self.observation_space.shape\n",
    "    self.observation_space = gym.spaces.Box(\n",
    "        low = np.concatenate(2 * [self.observation_space.low], axis=0),\n",
    "        high = np.concatenate(2 * [self.observation_space.high], axis=0),\n",
    "        shape = (2 * prev_shape[0],) + prev_shape[1:],\n",
    "        dtype = self.observation_space.dtype)\n",
    "\n",
    "  def reset(self, **kwargs):\n",
    "    obs = self.env.reset(**kwargs)\n",
    "    if self.goal_chooser is not None:\n",
    "      self.goal_state = self.goal_chooser(self.env)\n",
    "    return self.observation(obs)\n",
    "\n",
    "  def step(self, action):\n",
    "    obs, _, _, info = self.env.step(action)\n",
    "    return self.observation(obs), self.reward(obs), self.terminal(obs), info\n",
    "\n",
    "  def observation(self, obs):\n",
    "    return torch.cat([obs, self.goal_state], dim=0)\n",
    "\n",
    "  def reward(self, obs):\n",
    "    return 1 if (obs == self.goal_state).all() else 0\n",
    "\n",
    "  def terminal(self, obs):\n",
    "    return (obs == self.goal_state).all()\n",
    "\n",
    "  def set_goal_state(self, state):\n",
    "    self.goal_state = state\n",
    "\n",
    "goal_env = GoalWrapper(make_env('Gridworld'), goal_chooser=generate_random_state)\n",
    "\n",
    "obs = goal_env.reset()\n",
    "plt.imshow(torch.cat([obs[0], obs[1]], dim=1).squeeze())"
   ]
  },
  {
   "cell_type": "code",
   "execution_count": null,
   "metadata": {},
   "outputs": [],
   "source": [
    "class OfflineDQN(DDDQNAgent):\n",
    "  def __init__(self, *args, bc_weight=0.2, **kwargs):\n",
    "      super().__init__(*args, **kwargs)\n",
    "\n",
    "  def calculate_losses(self):\n",
    "    batch_data = self.prepare_batch_data()\n",
    "    obs, acts, n_step_rewards, final_obs, terminals, final_gammas = batch_data\n",
    "    final_q_values = self.model(final_obs)\n",
    "    max_next_acts = torch.argmax(final_q_values, dim=1, keepdim=True).detach()\n",
    "    \n",
    "    final_q_values = self.target_model(final_obs)\n",
    "    max_final_q_values = final_q_values.gather(index=max_next_acts, dim=1)\n",
    "    max_final_q_values = max_final_q_values.view(-1).detach()\n",
    "    terminal_mods = 1 - terminals\n",
    "    target_qs = n_step_rewards + terminal_mods * final_gammas * max_final_q_values\n",
    "\n",
    "    pred_qs = self.model(obs)\n",
    "    pred_qs = pred_qs.gather(index=acts.view(-1, 1), dim=1).view(-1)\n",
    "    \n",
    "    losses = (target_qs.detach() - pred_qs) ** 2\n",
    "    return losses\n",
    "\n",
    "  def train(self):\n",
    "    self.model.train()\n",
    "\n",
    "    losses = self.calculate_losses()\n",
    "\n",
    "    obs, behavior_acts, _, _, _, _ = self.prepare_batch_data()\n",
    "    policy_acts = self.model(obs).argmax(dim=1)\n",
    "\n",
    "    \n",
    "\n",
    "    loss = losses.mean()\n",
    "    wandb.log({'dqn_loss': loss.item()})\n",
    "    self.losses.append(loss.item())\n",
    "    \n",
    "    self.optimizer.zero_grad()\n",
    "    loss.backward()\n",
    "    self.optimizer.step()\n",
    "\n",
    "    return loss.item()"
   ]
  },
  {
   "cell_type": "code",
   "execution_count": 10,
   "metadata": {},
   "outputs": [],
   "source": [
    "dqn_model = DDDQNNetwork(list(goal_env.observation_space.shape), goal_env.action_space.n)\n",
    "task_agent = DDDQNAgent(goal_env, dqn_model)"
   ]
  },
  {
   "cell_type": "code",
   "execution_count": 79,
   "metadata": {},
   "outputs": [
    {
     "name": "stderr",
     "output_type": "stream",
     "text": [
      " 50%|█████     | 10037/20000 [00:00<00:00, 24058.08it/s]"
     ]
    },
    {
     "name": "stdout",
     "output_type": "stream",
     "text": [
      "# steps: 4890\n"
     ]
    },
    {
     "name": "stderr",
     "output_type": "stream",
     "text": [
      "\n"
     ]
    }
   ],
   "source": [
    "### Use the explorer experience buffer to create random relabeled trajectories ###\n",
    "\n",
    "samples_per_trajectory = 4\n",
    "min_trajectory_length = 5\n",
    "\n",
    "# Loop through experience buffer\n",
    "task_agent.start_task(0)\n",
    "bar = tqdm(total=len(explore_agent.exp_buffer))\n",
    "buffer_idx = 0\n",
    "while buffer_idx < len(explore_agent.exp_buffer[:10000]):\n",
    "    # Collect transitions from one trajctory\n",
    "    trajectory = []\n",
    "    for i in range(buffer_idx, len(explore_agent.exp_buffer)):\n",
    "        transition = explore_agent.exp_buffer[i]\n",
    "        if transition[4]: # If done\n",
    "            break\n",
    "    trajectory = explore_agent.exp_buffer[buffer_idx:i+1]\n",
    "    bar.update(len(trajectory))\n",
    "    buffer_idx = i + 1\n",
    "\n",
    "    # If trajectory is too short, skip to next trajectory\n",
    "    if len(trajectory) < min_trajectory_length:\n",
    "        continue\n",
    "\n",
    "    # Resample & relabel new trajectories\n",
    "    for _ in range(samples_per_trajectory):\n",
    "        if np.random.rand() < 0.5:\n",
    "            goal_idx = np.random.randint(1, len(trajectory))\n",
    "            start_idx = np.random.randint(0, goal_idx)\n",
    "        else:\n",
    "            start_idx = np.random.randint(0, len(trajectory)-1)\n",
    "            goal_idx = np.random.randint(start_idx+1, len(trajectory))\n",
    "        # end_idx = goal_idx # Could try changing this, or make start index always 0\n",
    "        #                    # If this is changed, make sure to also change terminals below\n",
    "\n",
    "        goal_state = copy.deepcopy(trajectory[goal_idx][3])\n",
    "        new_trajectory = copy.copy(trajectory[start_idx:goal_idx+1])\n",
    "        new_goal_idx = goal_idx - start_idx\n",
    "        for i in range(0, len(new_trajectory)):\n",
    "            transition = new_trajectory[i]\n",
    "            new_transition = [0, 0, 0, 0, 0]\n",
    "            # Append goal state to obs\n",
    "            # print((transition[0] == goal_state).all())\n",
    "            new_transition[0] = torch.cat([transition[0], goal_state], dim=0)\n",
    "            # Set action\n",
    "            new_transition[1] = transition[1]\n",
    "            # Change rewards\n",
    "            if (transition[3] == goal_state).all():\n",
    "                new_transition[2] = 1 # Goal reward\n",
    "                new_transition[4] = True # Done\n",
    "            else:\n",
    "                new_transition[2] = 0 # Non-goal reward\n",
    "                new_transition[4] = False # Not done\n",
    "            # Append goal state to next_obs\n",
    "            new_transition[3] = torch.cat([transition[3], goal_state], dim=0)\n",
    "            # Change terminals\n",
    "\n",
    "            # task_agent.append_buffer(copy.deepcopy(new_transition))\n",
    "            task_agent.process_step_data(copy.deepcopy(new_transition))\n",
    "\n",
    "            if new_transition[4]:\n",
    "                break\n",
    "        task_agent.end_episode()\n",
    "\n",
    "bar.close()\n",
    "# print('# steps:', task_agent.mem.transitions.index)\n",
    "print('# steps:', task_agent.buffer_size())"
   ]
  },
  {
   "cell_type": "code",
   "execution_count": 80,
   "metadata": {},
   "outputs": [
    {
     "name": "stdout",
     "output_type": "stream",
     "text": [
      "0.0 False 0.8863848717161292\n"
     ]
    },
    {
     "data": {
      "image/png": "[encoded data removed]",
      "text/plain": [
       "<Figure size 720x720 with 1 Axes>"
      ]
     },
     "metadata": {},
     "output_type": "display_data"
    }
   ],
   "source": [
    "obs, act, n_step_reward, final_obs, done, final_gamma = task_agent.exp_buffer[-18]\n",
    "# Increase plot x size\n",
    "plt.rcParams['figure.figsize'] = (10, 10)\n",
    "plt.imshow(torch.cat([obs[0].cpu(), final_obs[0].cpu(), obs[1].cpu()], dim=1).squeeze())\n",
    "print(n_step_reward, done, final_gamma)"
   ]
  },
  {
   "cell_type": "code",
   "execution_count": 81,
   "metadata": {},
   "outputs": [
    {
     "name": "stdout",
     "output_type": "stream",
     "text": [
      "tensor(False) 0.0 0.0\n"
     ]
    },
    {
     "name": "stderr",
     "output_type": "stream",
     "text": [
      "e:\\projects\\rl_representation_learning\\notebooks\\..\\src\\agents\\base.py:88: UserWarning: To copy construct from a tensor, it is recommended to use sourceTensor.clone().detach() or sourceTensor.clone().detach().requires_grad_(True), rather than torch.tensor(sourceTensor).\n",
      "  [torch.stack([torch.tensor(se, dtype=torch.float32) for se in e], \\\n"
     ]
    },
    {
     "data": {
      "image/png": "[encoded data removed]",
      "text/plain": [
       "<Figure size 720x720 with 1 Axes>"
      ]
     },
     "metadata": {},
     "output_type": "display_data"
    }
   ],
   "source": [
    "i = 0\n",
    "transition = task_agent.sample_buffer(1)\n",
    "n_step_reward = -11.361513137817383\n",
    "# while n_step_reward == -11.361513137817383:\n",
    "obs, act, n_step_reward, final_obs, done, final_gamma = transition\n",
    "plt.imshow(torch.cat([obs[0, 0].cpu(), obs[0, 1].cpu()], dim=1).squeeze())\n",
    "print((obs[0, 0] == obs[0, 1]).all(), done.item(), n_step_reward.item())"
   ]
  },
  {
   "cell_type": "code",
   "execution_count": 82,
   "metadata": {},
   "outputs": [
    {
     "data": {
      "text/plain": [
       "<matplotlib.image.AxesImage at 0x1ebca675640>"
      ]
     },
     "execution_count": 82,
     "metadata": {},
     "output_type": "execute_result"
    },
    {
     "data": {
      "image/png": "[encoded data removed]",
      "text/plain": [
       "<Figure size 720x720 with 1 Axes>"
      ]
     },
     "metadata": {},
     "output_type": "display_data"
    }
   ],
   "source": [
    "plt.imshow(torch.cat([final_obs[0, 0].cpu(), final_obs[0, 1].cpu()], dim=1).squeeze())"
   ]
  },
  {
   "cell_type": "code",
   "execution_count": 85,
   "metadata": {},
   "outputs": [
    {
     "name": "stderr",
     "output_type": "stream",
     "text": [
      "e:\\projects\\rl_representation_learning\\notebooks\\..\\src\\agents\\base.py:88: UserWarning: To copy construct from a tensor, it is recommended to use sourceTensor.clone().detach() or sourceTensor.clone().detach().requires_grad_(True), rather than torch.tensor(sourceTensor).\n",
      "  [torch.stack([torch.tensor(se, dtype=torch.float32) for se in e], \\\n",
      "e:\\projects\\rl_representation_learning\\notebooks\\..\\src\\agents\\dqn.py:111: UserWarning: To copy construct from a tensor, it is recommended to use sourceTensor.clone().detach() or sourceTensor.clone().detach().requires_grad_(True), rather than torch.tensor(sourceTensor).\n",
      "  batch_data = [torch.tensor(e, dtype=torch.float32) \\\n"
     ]
    },
    {
     "name": "stdout",
     "output_type": "stream",
     "text": [
      "Step: 0 | Loss: 0.016\n",
      "Step: 200 | Loss: 0.013\n",
      "Step: 400 | Loss: 0.013\n",
      "Step: 600 | Loss: 0.013\n",
      "Step: 800 | Loss: 0.013\n",
      "Step: 1000 | Loss: 0.013\n",
      "Step: 1200 | Loss: 0.012\n",
      "Step: 1400 | Loss: 0.013\n",
      "Step: 1600 | Loss: 0.012\n",
      "Step: 1800 | Loss: 0.011\n",
      "Step: 2000 | Loss: 0.012\n",
      "Step: 2200 | Loss: 0.010\n",
      "Step: 2400 | Loss: 0.011\n",
      "Step: 2600 | Loss: 0.011\n",
      "Step: 2800 | Loss: 0.010\n",
      "Step: 3000 | Loss: 0.010\n",
      "Step: 3200 | Loss: 0.009\n",
      "Step: 3400 | Loss: 0.009\n",
      "Step: 3600 | Loss: 0.009\n",
      "Step: 3800 | Loss: 0.008\n",
      "Step: 4000 | Loss: 0.008\n",
      "Step: 4200 | Loss: 0.007\n",
      "Step: 4400 | Loss: 0.007\n",
      "Step: 4600 | Loss: 0.007\n",
      "Step: 4800 | Loss: 0.008\n",
      "Step: 5000 | Loss: 0.008\n",
      "Step: 5200 | Loss: 0.008\n",
      "Step: 5400 | Loss: 0.008\n",
      "Step: 5600 | Loss: 0.007\n",
      "Step: 5800 | Loss: 0.008\n",
      "Step: 6000 | Loss: 0.007\n",
      "Step: 6200 | Loss: 0.008\n",
      "Step: 6400 | Loss: 0.008\n",
      "Step: 6600 | Loss: 0.008\n",
      "Step: 6800 | Loss: 0.008\n",
      "Step: 7000 | Loss: 0.007\n",
      "Step: 7200 | Loss: 0.008\n",
      "Step: 7400 | Loss: 0.007\n",
      "Step: 7600 | Loss: 0.007\n",
      "Step: 7800 | Loss: 0.007\n",
      "Step: 8000 | Loss: 0.006\n",
      "Step: 8200 | Loss: 0.006\n",
      "Step: 8400 | Loss: 0.006\n",
      "Step: 8600 | Loss: 0.006\n",
      "Step: 8800 | Loss: 0.006\n",
      "Step: 9000 | Loss: 0.006\n",
      "Step: 9200 | Loss: 0.006\n",
      "Step: 9400 | Loss: 0.006\n",
      "Step: 9600 | Loss: 0.006\n",
      "Step: 9800 | Loss: 0.006\n",
      "Step: 10000 | Loss: 0.006\n",
      "Step: 10200 | Loss: 0.006\n",
      "Step: 10400 | Loss: 0.006\n",
      "Step: 10600 | Loss: 0.006\n",
      "Step: 10800 | Loss: 0.006\n",
      "Step: 11000 | Loss: 0.006\n"
     ]
    },
    {
     "ename": "KeyboardInterrupt",
     "evalue": "",
     "output_type": "error",
     "traceback": [
      "\u001b[1;31m---------------------------------------------------------------------------\u001b[0m",
      "\u001b[1;31mKeyboardInterrupt\u001b[0m                         Traceback (most recent call last)",
      "\u001b[1;32m<ipython-input-85-a94e965acb2d>\u001b[0m in \u001b[0;36m<module>\u001b[1;34m\u001b[0m\n\u001b[0;32m      6\u001b[0m \u001b[1;32mfor\u001b[0m \u001b[0mbatch_idx\u001b[0m \u001b[1;32min\u001b[0m \u001b[0mrange\u001b[0m\u001b[1;33m(\u001b[0m\u001b[0mn_train_steps\u001b[0m\u001b[1;33m)\u001b[0m\u001b[1;33m:\u001b[0m\u001b[1;33m\u001b[0m\u001b[1;33m\u001b[0m\u001b[0m\n\u001b[0;32m      7\u001b[0m     \u001b[1;31m# Train with n-step distributional double-Q learning\u001b[0m\u001b[1;33m\u001b[0m\u001b[1;33m\u001b[0m\u001b[0m\n\u001b[1;32m----> 8\u001b[1;33m     \u001b[0mloss\u001b[0m \u001b[1;33m=\u001b[0m \u001b[0mtask_agent\u001b[0m\u001b[1;33m.\u001b[0m\u001b[0mtrain\u001b[0m\u001b[1;33m(\u001b[0m\u001b[1;33m)\u001b[0m\u001b[1;33m\u001b[0m\u001b[1;33m\u001b[0m\u001b[0m\n\u001b[0m\u001b[0;32m      9\u001b[0m     \u001b[0mlosses\u001b[0m\u001b[1;33m.\u001b[0m\u001b[0mappend\u001b[0m\u001b[1;33m(\u001b[0m\u001b[0mloss\u001b[0m\u001b[1;33m)\u001b[0m\u001b[1;33m\u001b[0m\u001b[1;33m\u001b[0m\u001b[0m\n\u001b[0;32m     10\u001b[0m \u001b[1;33m\u001b[0m\u001b[0m\n",
      "\u001b[1;32me:\\projects\\rl_representation_learning\\notebooks\\..\\src\\agents\\dqn.py\u001b[0m in \u001b[0;36mtrain\u001b[1;34m(self)\u001b[0m\n\u001b[0;32m    136\u001b[0m     \u001b[0mself\u001b[0m\u001b[1;33m.\u001b[0m\u001b[0mmodel\u001b[0m\u001b[1;33m.\u001b[0m\u001b[0mtrain\u001b[0m\u001b[1;33m(\u001b[0m\u001b[1;33m)\u001b[0m\u001b[1;33m\u001b[0m\u001b[1;33m\u001b[0m\u001b[0m\n\u001b[0;32m    137\u001b[0m \u001b[1;33m\u001b[0m\u001b[0m\n\u001b[1;32m--> 138\u001b[1;33m     \u001b[0mlosses\u001b[0m \u001b[1;33m=\u001b[0m \u001b[0mself\u001b[0m\u001b[1;33m.\u001b[0m\u001b[0mcalculate_losses\u001b[0m\u001b[1;33m(\u001b[0m\u001b[1;33m)\u001b[0m\u001b[1;33m\u001b[0m\u001b[1;33m\u001b[0m\u001b[0m\n\u001b[0m\u001b[0;32m    139\u001b[0m     \u001b[0mloss\u001b[0m \u001b[1;33m=\u001b[0m \u001b[0mlosses\u001b[0m\u001b[1;33m.\u001b[0m\u001b[0mmean\u001b[0m\u001b[1;33m(\u001b[0m\u001b[1;33m)\u001b[0m\u001b[1;33m\u001b[0m\u001b[1;33m\u001b[0m\u001b[0m\n\u001b[0;32m    140\u001b[0m     \u001b[0mwandb\u001b[0m\u001b[1;33m.\u001b[0m\u001b[0mlog\u001b[0m\u001b[1;33m(\u001b[0m\u001b[1;33m{\u001b[0m\u001b[1;34m'dqn_loss'\u001b[0m\u001b[1;33m:\u001b[0m \u001b[0mloss\u001b[0m\u001b[1;33m.\u001b[0m\u001b[0mitem\u001b[0m\u001b[1;33m(\u001b[0m\u001b[1;33m)\u001b[0m\u001b[1;33m}\u001b[0m\u001b[1;33m)\u001b[0m\u001b[1;33m\u001b[0m\u001b[1;33m\u001b[0m\u001b[0m\n",
      "\u001b[1;32me:\\projects\\rl_representation_learning\\notebooks\\..\\src\\agents\\dqn.py\u001b[0m in \u001b[0;36mcalculate_losses\u001b[1;34m(self)\u001b[0m\n\u001b[0;32m    118\u001b[0m     \u001b[0mbatch_data\u001b[0m \u001b[1;33m=\u001b[0m \u001b[0mself\u001b[0m\u001b[1;33m.\u001b[0m\u001b[0mprepare_batch_data\u001b[0m\u001b[1;33m(\u001b[0m\u001b[1;33m)\u001b[0m\u001b[1;33m\u001b[0m\u001b[1;33m\u001b[0m\u001b[0m\n\u001b[0;32m    119\u001b[0m     \u001b[0mobs\u001b[0m\u001b[1;33m,\u001b[0m \u001b[0macts\u001b[0m\u001b[1;33m,\u001b[0m \u001b[0mn_step_rewards\u001b[0m\u001b[1;33m,\u001b[0m \u001b[0mfinal_obs\u001b[0m\u001b[1;33m,\u001b[0m \u001b[0mterminals\u001b[0m\u001b[1;33m,\u001b[0m \u001b[0mfinal_gammas\u001b[0m \u001b[1;33m=\u001b[0m \u001b[0mbatch_data\u001b[0m\u001b[1;33m\u001b[0m\u001b[1;33m\u001b[0m\u001b[0m\n\u001b[1;32m--> 120\u001b[1;33m     \u001b[0mfinal_q_values\u001b[0m \u001b[1;33m=\u001b[0m \u001b[0mself\u001b[0m\u001b[1;33m.\u001b[0m\u001b[0mmodel\u001b[0m\u001b[1;33m(\u001b[0m\u001b[0mfinal_obs\u001b[0m\u001b[1;33m)\u001b[0m\u001b[1;33m\u001b[0m\u001b[1;33m\u001b[0m\u001b[0m\n\u001b[0m\u001b[0;32m    121\u001b[0m     \u001b[0mmax_next_acts\u001b[0m \u001b[1;33m=\u001b[0m \u001b[0mtorch\u001b[0m\u001b[1;33m.\u001b[0m\u001b[0margmax\u001b[0m\u001b[1;33m(\u001b[0m\u001b[0mfinal_q_values\u001b[0m\u001b[1;33m,\u001b[0m \u001b[0mdim\u001b[0m\u001b[1;33m=\u001b[0m\u001b[1;36m1\u001b[0m\u001b[1;33m,\u001b[0m \u001b[0mkeepdim\u001b[0m\u001b[1;33m=\u001b[0m\u001b[1;32mTrue\u001b[0m\u001b[1;33m)\u001b[0m\u001b[1;33m.\u001b[0m\u001b[0mdetach\u001b[0m\u001b[1;33m(\u001b[0m\u001b[1;33m)\u001b[0m\u001b[1;33m\u001b[0m\u001b[1;33m\u001b[0m\u001b[0m\n\u001b[0;32m    122\u001b[0m \u001b[1;33m\u001b[0m\u001b[0m\n",
      "\u001b[1;32m~\\.conda\\envs\\ml2\\lib\\site-packages\\torch\\nn\\modules\\module.py\u001b[0m in \u001b[0;36m_call_impl\u001b[1;34m(self, *input, **kwargs)\u001b[0m\n\u001b[0;32m   1049\u001b[0m         if not (self._backward_hooks or self._forward_hooks or self._forward_pre_hooks or _global_backward_hooks\n\u001b[0;32m   1050\u001b[0m                 or _global_forward_hooks or _global_forward_pre_hooks):\n\u001b[1;32m-> 1051\u001b[1;33m             \u001b[1;32mreturn\u001b[0m \u001b[0mforward_call\u001b[0m\u001b[1;33m(\u001b[0m\u001b[1;33m*\u001b[0m\u001b[0minput\u001b[0m\u001b[1;33m,\u001b[0m \u001b[1;33m**\u001b[0m\u001b[0mkwargs\u001b[0m\u001b[1;33m)\u001b[0m\u001b[1;33m\u001b[0m\u001b[1;33m\u001b[0m\u001b[0m\n\u001b[0m\u001b[0;32m   1052\u001b[0m         \u001b[1;31m# Do not call functions when jit is used\u001b[0m\u001b[1;33m\u001b[0m\u001b[1;33m\u001b[0m\u001b[0m\n\u001b[0;32m   1053\u001b[0m         \u001b[0mfull_backward_hooks\u001b[0m\u001b[1;33m,\u001b[0m \u001b[0mnon_full_backward_hooks\u001b[0m \u001b[1;33m=\u001b[0m \u001b[1;33m[\u001b[0m\u001b[1;33m]\u001b[0m\u001b[1;33m,\u001b[0m \u001b[1;33m[\u001b[0m\u001b[1;33m]\u001b[0m\u001b[1;33m\u001b[0m\u001b[1;33m\u001b[0m\u001b[0m\n",
      "\u001b[1;32me:\\projects\\rl_representation_learning\\notebooks\\..\\src\\models\\base.py\u001b[0m in \u001b[0;36mforward\u001b[1;34m(self, x)\u001b[0m\n\u001b[0;32m    173\u001b[0m         \u001b[0madvantages\u001b[0m \u001b[1;33m=\u001b[0m \u001b[0madvantages\u001b[0m \u001b[1;33m-\u001b[0m \u001b[0madvantage_means\u001b[0m\u001b[1;33m\u001b[0m\u001b[1;33m\u001b[0m\u001b[0m\n\u001b[0;32m    174\u001b[0m \u001b[1;33m\u001b[0m\u001b[0m\n\u001b[1;32m--> 175\u001b[1;33m         \u001b[0mqs\u001b[0m \u001b[1;33m=\u001b[0m \u001b[0mvalues\u001b[0m \u001b[1;33m+\u001b[0m \u001b[0madvantages\u001b[0m\u001b[1;33m\u001b[0m\u001b[1;33m\u001b[0m\u001b[0m\n\u001b[0m\u001b[0;32m    176\u001b[0m \u001b[1;33m\u001b[0m\u001b[0m\n\u001b[0;32m    177\u001b[0m         \u001b[1;32mreturn\u001b[0m \u001b[0mqs\u001b[0m\u001b[1;33m\u001b[0m\u001b[1;33m\u001b[0m\u001b[0m\n",
      "\u001b[1;31mKeyboardInterrupt\u001b[0m: "
     ]
    }
   ],
   "source": [
    "n_train_steps = 20000\n",
    "print_freq = 200\n",
    "\n",
    "task_agent.model.train()\n",
    "losses = []\n",
    "for batch_idx in range(n_train_steps):\n",
    "    # Train with n-step distributional double-Q learning\n",
    "    loss = task_agent.train()\n",
    "    losses.append(loss)\n",
    "\n",
    "    # # Update target network\n",
    "    # if batch_idx % task_agent.args.target_update == 0:\n",
    "    #     task_agent.dqn.update_target_net()\n",
    "\n",
    "    # Update target network\n",
    "    if batch_idx % task_agent.target_update_freq == 0:\n",
    "        task_agent._update_target_network()\n",
    "\n",
    "    if batch_idx % print_freq == 0:\n",
    "        print('Step: {} | Loss: {:.3f}'.format(batch_idx, np.mean(losses[-print_freq:])))"
   ]
  },
  {
   "cell_type": "code",
   "execution_count": 89,
   "metadata": {},
   "outputs": [
    {
     "name": "stderr",
     "output_type": "stream",
     "text": [
      "100%|██████████| 10/10 [00:01<00:00,  5.75it/s]"
     ]
    },
    {
     "name": "stdout",
     "output_type": "stream",
     "text": [
      "[0, 0, 0, 1, 0, 0, 0, 0, 0, 0]\n"
     ]
    },
    {
     "name": "stderr",
     "output_type": "stream",
     "text": [
      "\n"
     ]
    }
   ],
   "source": [
    "### Test the agent ###\n",
    "\n",
    "def eval_agent(agent, env, n_episodes=10, max_steps=200, render=False):\n",
    "    all_rewards = []\n",
    "    for _ in tqdm(range(n_episodes)):\n",
    "        ep_reward = 0\n",
    "        obs = env.reset()\n",
    "        for _ in range(max_steps):\n",
    "            act = agent.sample_act(obs)\n",
    "            obs, reward, done, _ = env.step(act)\n",
    "            ep_reward += reward\n",
    "            if render:\n",
    "                env.render()\n",
    "                time.sleep(0.05)\n",
    "            if done:\n",
    "                break\n",
    "\n",
    "        all_rewards.append(ep_reward)\n",
    "\n",
    "    return all_rewards\n",
    "\n",
    "task_agent.model.eval()\n",
    "rewards = eval_agent(task_agent, goal_env, n_episodes=10)\n",
    "print(rewards)"
   ]
  },
  {
   "cell_type": "code",
   "execution_count": 253,
   "metadata": {},
   "outputs": [
    {
     "name": "stdout",
     "output_type": "stream",
     "text": [
      "tensor(True, device='cuda:0') 1.0 -18.209304809570312\n"
     ]
    },
    {
     "data": {
      "image/png": "[encoded data removed]",
      "text/plain": [
       "<Figure size 432x288 with 1 Axes>"
      ]
     },
     "metadata": {
      "needs_background": "light"
     },
     "output_type": "display_data"
    }
   ],
   "source": [
    "i = 0\n",
    "transition = task_agent.mem.sample(1)\n",
    "_, obs, act, ret, next_obs, done, _ = transition\n",
    "plt.imshow(torch.cat([obs[0, 0].cpu(), obs[0, 1].cpu()], dim=1).squeeze())\n",
    "print((obs[0, 0] == obs[0, 1]).all(), done.item(), ret.item())"
   ]
  },
  {
   "cell_type": "code",
   "execution_count": 201,
   "metadata": {},
   "outputs": [
    {
     "name": "stdout",
     "output_type": "stream",
     "text": [
      "torch.Size([1, 16, 16])\n"
     ]
    },
    {
     "ename": "IndexError",
     "evalue": "index 1 is out of bounds for dimension 0 with size 1",
     "output_type": "error",
     "traceback": [
      "\u001b[1;31m---------------------------------------------------------------------------\u001b[0m",
      "\u001b[1;31mIndexError\u001b[0m                                Traceback (most recent call last)",
      "\u001b[1;32m<ipython-input-201-54de58dc85c8>\u001b[0m in \u001b[0;36m<module>\u001b[1;34m\u001b[0m\n\u001b[0;32m      1\u001b[0m \u001b[0mobs\u001b[0m \u001b[1;33m=\u001b[0m \u001b[0mexplore_agent\u001b[0m\u001b[1;33m.\u001b[0m\u001b[0mexp_buffer\u001b[0m\u001b[1;33m[\u001b[0m\u001b[1;36m0\u001b[0m\u001b[1;33m]\u001b[0m\u001b[1;33m[\u001b[0m\u001b[1;36m0\u001b[0m\u001b[1;33m]\u001b[0m\u001b[1;33m\u001b[0m\u001b[1;33m\u001b[0m\u001b[0m\n\u001b[0;32m      2\u001b[0m \u001b[0mprint\u001b[0m\u001b[1;33m(\u001b[0m\u001b[0mobs\u001b[0m\u001b[1;33m.\u001b[0m\u001b[0mshape\u001b[0m\u001b[1;33m)\u001b[0m\u001b[1;33m\u001b[0m\u001b[1;33m\u001b[0m\u001b[0m\n\u001b[1;32m----> 3\u001b[1;33m \u001b[0mplt\u001b[0m\u001b[1;33m.\u001b[0m\u001b[0mimshow\u001b[0m\u001b[1;33m(\u001b[0m\u001b[0mtorch\u001b[0m\u001b[1;33m.\u001b[0m\u001b[0mcat\u001b[0m\u001b[1;33m(\u001b[0m\u001b[1;33m[\u001b[0m\u001b[0mobs\u001b[0m\u001b[1;33m[\u001b[0m\u001b[1;36m0\u001b[0m\u001b[1;33m]\u001b[0m\u001b[1;33m.\u001b[0m\u001b[0mcpu\u001b[0m\u001b[1;33m(\u001b[0m\u001b[1;33m)\u001b[0m\u001b[1;33m,\u001b[0m \u001b[0mobs\u001b[0m\u001b[1;33m[\u001b[0m\u001b[1;36m1\u001b[0m\u001b[1;33m]\u001b[0m\u001b[1;33m.\u001b[0m\u001b[0mcpu\u001b[0m\u001b[1;33m(\u001b[0m\u001b[1;33m)\u001b[0m\u001b[1;33m]\u001b[0m\u001b[1;33m,\u001b[0m \u001b[0mdim\u001b[0m\u001b[1;33m=\u001b[0m\u001b[1;36m1\u001b[0m\u001b[1;33m)\u001b[0m\u001b[1;33m.\u001b[0m\u001b[0msqueeze\u001b[0m\u001b[1;33m(\u001b[0m\u001b[1;33m)\u001b[0m\u001b[1;33m)\u001b[0m\u001b[1;33m\u001b[0m\u001b[1;33m\u001b[0m\u001b[0m\n\u001b[0m",
      "\u001b[1;31mIndexError\u001b[0m: index 1 is out of bounds for dimension 0 with size 1"
     ]
    }
   ],
   "source": [
    "obs = explore_agent.exp_buffer[0][0]\n",
    "print(obs.shape)\n",
    "plt.imshow(torch.cat([obs[0].cpu(), obs[1].cpu()], dim=1).squeeze())"
   ]
  },
  {
   "cell_type": "code",
   "execution_count": 176,
   "metadata": {},
   "outputs": [
    {
     "data": {
      "text/plain": [
       "<matplotlib.image.AxesImage at 0x1d8b7162d00>"
      ]
     },
     "execution_count": 176,
     "metadata": {},
     "output_type": "execute_result"
    },
    {
     "data": {
      "image/png": "[encoded data removed]",
      "text/plain": [
       "<Figure size 432x288 with 1 Axes>"
      ]
     },
     "metadata": {
      "needs_background": "light"
     },
     "output_type": "display_data"
    }
   ],
   "source": [
    "plt.imshow(torch.cat([obs[0, 0].cpu(), obs[0, 1].cpu()], dim=1).squeeze())"
   ]
  }
 ],
 "metadata": {
  "interpreter": {
   "hash": "6717cf457fe527f2ad07ab71b4770f157b357bf37d07e7427487ba89b10c0212"
  },
  "kernelspec": {
   "display_name": "Python 3.9.7 ('ml2')",
   "language": "python",
   "name": "python3"
  },
  "language_info": {
   "codemirror_mode": {
    "name": "ipython",
    "version": 3
   },
   "file_extension": ".py",
   "mimetype": "text/x-python",
   "name": "python",
   "nbconvert_exporter": "python",
   "pygments_lexer": "ipython3",
   "version": "3.9.7"
  },
  "orig_nbformat": 4
 },
 "nbformat": 4,
 "nbformat_minor": 2
}
