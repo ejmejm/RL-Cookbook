{
 "cells": [
  {
   "cell_type": "code",
   "execution_count": 32,
   "metadata": {},
   "outputs": [],
   "source": [
    "import copy\n",
    "import os\n",
    "import sys\n",
    "import time\n",
    "\n",
    "sys.path.append('..')\n",
    "\n",
    "from src.experiments.register import *\n",
    "from src.experiments.argument_handling import *\n",
    "from src.envs.creation import make_env, create_simple_gridworld_env\n",
    "from src.envs.simulation import *\n",
    "from src.envs.wrappers import *\n",
    "from src.utils.constants import *\n",
    "from src.agents import *\n",
    "from src.agents.base import *\n",
    "from src.agents.exploration import *\n",
    "from src.models.base import *\n",
    "\n",
    "import einops\n",
    "import gym\n",
    "from gym import ObservationWrapper\n",
    "from gym.wrappers import TimeLimit\n",
    "from gym_gridworld.envs.gridworld_env import GridworldEnv\n",
    "import matplotlib.pyplot as plt\n",
    "import numpy as np\n",
    "import seaborn as sns\n",
    "import torch\n",
    "from tqdm import tqdm\n",
    "\n",
    "os.environ['WANDB_SILENT'] = 'true'\n",
    "wandb.init()\n",
    "\n",
    "%matplotlib inline"
   ]
  },
  {
   "cell_type": "code",
   "execution_count": 33,
   "metadata": {},
   "outputs": [],
   "source": [
    "class TimeAddedWrapper(ObservationWrapper):\n",
    "  def __init__(self, env):\n",
    "    super(TimeAddedWrapper, self).__init__(env)\n",
    "    self.time_added = 0\n",
    "\n",
    "  def observation(self, observation):\n",
    "    time_frac = self.env._elapsed_steps / self.env._max_episode_steps\n",
    "    observation[0, 0, 0] += time_frac\n",
    "    return observation\n",
    "\n",
    "def create_env(randomized=False, max_steps=100, map_shape=(16, 16), goal_termination=True):\n",
    "  global N_FRAME_STACK\n",
    "  N_FRAME_STACK = 1\n",
    "\n",
    "  env = gym.make('gridworld-v0')\n",
    "  env = GridWorldWrapper(env)\n",
    "  if not goal_termination:\n",
    "    env = NoTerminationWrapper(env)\n",
    "  env = SimpleMapWrapper(env, randomized, map_shape)\n",
    "  if max_steps > 0:\n",
    "    env = TimeLimit(env, max_steps)\n",
    "    env = TimeAddedWrapper(env)\n",
    "  env = TransformObservation(env, torch.FloatTensor)\n",
    "  return env\n",
    "\n",
    "# explore_env = \\\n",
    "#   RandomTerminationWrapper(\n",
    "#     NoTerminationWrapper(\n",
    "#       NoRewardWrapper(\n",
    "#         make_env('Gridworld'))), 0.005)"
   ]
  },
  {
   "cell_type": "code",
   "execution_count": 34,
   "metadata": {},
   "outputs": [],
   "source": [
    "# Adapted from: https://github.com/deepmind/deepmind-research/blob/master/visr/VISR_ICLR2020.ipynb\n",
    "def sample_sphere(dim, n=1):\n",
    "  unnormed = np.random.randn(n, dim)\n",
    "  arr = unnormed / np.linalg.norm(unnormed, axis=-1, keepdims=True)\n",
    "  return torch.FloatTensor(arr)\n",
    "  \n",
    "def sample_batch(buffer, n):\n",
    "  data_idxs = np.random.choice(range(len(buffer)), size=n, replace=False)\n",
    "  batch_data = []\n",
    "  for i in data_idxs:\n",
    "    batch_data.append(buffer[i])\n",
    "  return batch_data\n",
    "\n",
    "def sample_recent_batch(buffer, n):\n",
    "  return buffer[-n:]\n",
    "\n",
    "# Creates a state where the agent is in a random position\n",
    "def generate_random_state(env):\n",
    "    valid_state = False\n",
    "    while not valid_state:\n",
    "        state = [np.random.randint(0, env.unwrapped.grid_map_shape[0]), \\\n",
    "                 np.random.randint(0, env.unwrapped.grid_map_shape[1])]\n",
    "        # If location is empty or goal state\n",
    "        if env.unwrapped.current_grid_map[state[0], state[1]] in (0, 3):\n",
    "            valid_state = True\n",
    "    obs, _, _, _ = copy.deepcopy(env).jump_to_state(state)\n",
    "    return env.observation(obs)"
   ]
  },
  {
   "cell_type": "code",
   "execution_count": 35,
   "metadata": {},
   "outputs": [],
   "source": [
    "class FeatureNetwork(nn.Module):\n",
    "    def __init__(self, obs_dim, n_acts, embed_dim=256, encoder=None):\n",
    "        super().__init__()\n",
    "        \n",
    "        self.n_acts = n_acts\n",
    "        self.embed_dim = embed_dim\n",
    "\n",
    "        if encoder is None:\n",
    "            f_encoder = create_encoder_from_obs_dim(obs_dim)\n",
    "            sf_encoder = create_encoder_from_obs_dim(obs_dim)\n",
    "\n",
    "        test_input = torch.zeros(1, *obs_dim)\n",
    "        with torch.no_grad():\n",
    "            self.encoder_output_size = f_encoder(test_input).view(-1).shape[0]\n",
    "        hidden_size = get_hidden_size_from_obs_dim(obs_dim)\n",
    "        \n",
    "        # Feature layers\n",
    "        self.f_encoder = nn.Sequential(\n",
    "            f_encoder,\n",
    "            nn.Flatten(),\n",
    "            nn.Linear(self.encoder_output_size, hidden_size))\n",
    "\n",
    "        self.feature_layers = nn.Sequential(\n",
    "            nn.Linear(hidden_size, hidden_size),\n",
    "            nn.ReLU(),\n",
    "            nn.Linear(hidden_size, hidden_size),\n",
    "            nn.ReLU(),\n",
    "            nn.Linear(hidden_size, embed_dim))\n",
    "\n",
    "        # Successor Feature layers\n",
    "        self.sf_encoder = nn.Sequential(\n",
    "            sf_encoder,\n",
    "            nn.Flatten(),\n",
    "            nn.Linear(self.encoder_output_size, hidden_size))\n",
    "\n",
    "        self.sf_layers = nn.Sequential(\n",
    "            nn.Linear(hidden_size+embed_dim, hidden_size),\n",
    "            nn.ReLU(),\n",
    "            nn.Linear(hidden_size, hidden_size),\n",
    "            nn.ReLU(),\n",
    "            # TODO: Try different output layer for each cumulant\n",
    "            nn.Linear(hidden_size, n_acts * embed_dim))\n",
    "\n",
    "    def forward(self, x, goal_vector=None):\n",
    "        embeds = self.f_encoder(x)\n",
    "        features = self.feature_layers(embeds)\n",
    "        features = F.normalize(features, dim=1)\n",
    "\n",
    "        if goal_vector is None:\n",
    "            return features, None\n",
    "\n",
    "        embeds = self.sf_encoder(x)\n",
    "        sf_input = torch.cat([embeds, goal_vector], dim=-1)\n",
    "        sfs = self.sf_layers(sf_input)\n",
    "        sfs = sfs.reshape(-1, self.n_acts, self.embed_dim)\n",
    "\n",
    "        return features, sfs\n",
    "\n",
    "    # TODO: Add a target network for sfs\n",
    "    def train(self, batch_data, optimizer, gamma=0.99, reward_loss_weight=10):\n",
    "        device = next(self.parameters()).device\n",
    "\n",
    "        batch_data = np.array(batch_data)\n",
    "        obs, acts, next_obs, rewards, dones, skill_vectors = \\\n",
    "            [torch.from_numpy(np.stack(batch_data[:, i])).to(device) \\\n",
    "            for i in range(batch_data.shape[1])]\n",
    "\n",
    "        _, next_sfs = self(next_obs, skill_vectors)\n",
    "        features, sfs = self(obs, skill_vectors)\n",
    "        \n",
    "        next_q_vals = torch.bmm(next_sfs, skill_vectors.unsqueeze(2))\n",
    "        next_acts = next_q_vals.argmax(dim=1).unsqueeze(-1).repeat(1, 1, next_sfs.shape[2]).long()\n",
    "        selected_next_sfs = next_sfs.gather(dim=1, index=next_acts)\n",
    "        selected_next_sfs = selected_next_sfs.squeeze(1)\n",
    "        terminals = 1 - dones.int()\n",
    "        y = features + gamma * selected_next_sfs * terminals.unsqueeze(1)\n",
    "\n",
    "        sf_idxs = acts.unsqueeze(1).unsqueeze(2).repeat(1, 1, sfs.shape[2]).long()\n",
    "        selected_sfs = sfs.gather(dim=1, index=sf_idxs)\n",
    "        selected_sfs = selected_sfs.squeeze(1)\n",
    "\n",
    "        td_loss = (y.detach() - selected_sfs) ** 2\n",
    "        td_loss = torch.mean(torch.sum(td_loss, dim=1))\n",
    "\n",
    "        reward_loss = 1.0 - torch.bmm(features.unsqueeze(1), skill_vectors.unsqueeze(2))\n",
    "        reward_loss = reward_loss.mean()\n",
    "\n",
    "        total_loss = reward_loss_weight * reward_loss + td_loss\n",
    "\n",
    "        optimizer.zero_grad()\n",
    "        total_loss.backward()\n",
    "        optimizer.step()\n",
    "\n",
    "        return total_loss, reward_loss, td_loss"
   ]
  },
  {
   "cell_type": "code",
   "execution_count": 54,
   "metadata": {},
   "outputs": [],
   "source": [
    "class SimpleFeatureNetwork(nn.Module):\n",
    "    def __init__(self, obs_dim, n_acts, embed_dim=256, encoder=None):\n",
    "        super().__init__()\n",
    "        \n",
    "        self.n_acts = n_acts\n",
    "        self.embed_dim = embed_dim\n",
    "\n",
    "        self.feature_layers = nn.Sequential(\n",
    "            nn.Flatten(),\n",
    "            nn.Linear(np.prod(obs_dim), 100),\n",
    "            nn.ReLU(),\n",
    "            nn.Linear(100, embed_dim))\n",
    "\n",
    "        self.sf_layers = nn.Sequential(\n",
    "            nn.Flatten(),\n",
    "            nn.Linear(np.prod(obs_dim) + embed_dim, 100),\n",
    "            nn.ReLU(),\n",
    "            nn.Linear(100, 100),\n",
    "            nn.ReLU(),\n",
    "            nn.Linear(100, embed_dim * n_acts))\n",
    "\n",
    "    def forward(self, x, goal_vector=None):\n",
    "        features = self.feature_layers(x)\n",
    "        features = F.normalize(features, dim=1)\n",
    "\n",
    "        if goal_vector is None:\n",
    "            return features, None\n",
    "\n",
    "        sf_input = torch.cat([x.view(x.shape[0], -1), goal_vector], dim=-1)\n",
    "        sfs = self.sf_layers(sf_input)\n",
    "        sfs = sfs.view(-1, self.n_acts, self.embed_dim)\n",
    "\n",
    "        return features, sfs\n",
    "\n",
    "    def train(self, batch_data, optimizer, gamma=0.99, reward_loss_weight=10, target_model=None):\n",
    "        device = next(self.parameters()).device\n",
    "\n",
    "        batch_data = np.array(batch_data)\n",
    "        obs, acts, next_obs, rewards, dones, skill_vectors = \\\n",
    "            [torch.from_numpy(np.stack(batch_data[:, i])).to(device) \\\n",
    "            for i in range(batch_data.shape[1])]\n",
    "\n",
    "        if target_model:\n",
    "            _, next_sfs = target_model(next_obs, skill_vectors)\n",
    "        else:\n",
    "            _, next_sfs = self(next_obs, skill_vectors)\n",
    "        features, sfs = self(obs, skill_vectors)\n",
    "\n",
    "        next_q_vals = torch.bmm(next_sfs, skill_vectors.unsqueeze(2))\n",
    "        next_acts = next_q_vals.argmax(dim=1).unsqueeze(-1).repeat(1, 1, next_sfs.shape[2]).long()\n",
    "        selected_next_sfs = next_sfs.gather(dim=1, index=next_acts)\n",
    "        selected_next_sfs = selected_next_sfs.squeeze(1)\n",
    "        terminals = 1 - dones.int()\n",
    "        y = features + gamma * selected_next_sfs * terminals.unsqueeze(1)\n",
    "\n",
    "        sf_idxs = acts.unsqueeze(1).unsqueeze(2).repeat(1, 1, sfs.shape[2]).long()\n",
    "        selected_sfs = sfs.gather(dim=1, index=sf_idxs)\n",
    "        selected_sfs = selected_sfs.squeeze(1)\n",
    "\n",
    "        td_loss = (y.detach() - selected_sfs) ** 2\n",
    "        td_loss = td_loss.mean()\n",
    "\n",
    "        reward_loss = 1.0 - torch.bmm(features.unsqueeze(1), skill_vectors.unsqueeze(2))\n",
    "        reward_loss = reward_loss.mean()\n",
    "\n",
    "        if reward_loss_weight > 0:\n",
    "            total_loss = reward_loss_weight * reward_loss + td_loss\n",
    "        else:\n",
    "            total_loss = td_loss\n",
    "\n",
    "        optimizer.zero_grad()\n",
    "        total_loss.backward()\n",
    "        optimizer.step()\n",
    "\n",
    "        return total_loss, reward_loss, td_loss"
   ]
  },
  {
   "cell_type": "markdown",
   "metadata": {},
   "source": [
    "# Training"
   ]
  },
  {
   "cell_type": "code",
   "execution_count": 55,
   "metadata": {},
   "outputs": [],
   "source": [
    "DEVICE = 'cpu'\n",
    "\n",
    "n_episodes = 100000\n",
    "update_freq = 40\n",
    "batch_size = 40\n",
    "print_freq = update_freq * 500\n",
    "max_steps = 40\n",
    "randomize_env = False\n",
    "exp_buffer_size = int(1e6)\n",
    "gamma = 0.95\n",
    "map_shape = (10, 10)\n",
    "target_update_freq = 500 # In number of updates\n",
    "gpi_steps = 10\n",
    "\n",
    "start_act_epsilon = 0.1\n",
    "end_act_epsilon = 0.1\n",
    "act_epsilon_anneal_steps = int(1e4)\n",
    "\n",
    "start_reward_weight = 10\n",
    "end_reward_weight = 10\n",
    "reward_anneal_steps = int(1e5)\n",
    "\n",
    "embed_dim = 5\n",
    "lr = 1e-4\n",
    "\n",
    "\n",
    "def anneal_func(step, start, end, n_steps):\n",
    "  if step >= n_steps:\n",
    "    return end\n",
    "  return start - ((start - end) * (step / n_steps))\n",
    "\n",
    "get_act_epsilon = lambda step: anneal_func(\n",
    "    step, start_act_epsilon, end_act_epsilon, act_epsilon_anneal_steps)\n",
    "get_reward_weight = lambda step: anneal_func(\n",
    "    step, start_reward_weight, end_reward_weight, reward_anneal_steps)"
   ]
  },
  {
   "cell_type": "code",
   "execution_count": 56,
   "metadata": {},
   "outputs": [],
   "source": [
    "explore_env = create_env(randomize_env, max_steps, map_shape, False)\n",
    "\n",
    "obs_dim = explore_env.observation_space.shape\n",
    "n_acts = explore_env.action_space.n\n",
    "model = SimpleFeatureNetwork(obs_dim, n_acts, embed_dim)\n",
    "model = model.to(DEVICE)\n",
    "target_model = copy.deepcopy(model)\n",
    "\n",
    "optimizer = torch.optim.Adam(model.parameters(), lr=lr, eps=1e-5)\n",
    "\n",
    "sample_skill = lambda: sample_sphere(embed_dim)[0]\n",
    "\n",
    "exp_buffer = [] # [[obs, act, next_obs, reward, done, skill_vector], ...]\n",
    "\n",
    "all_rewards = []\n",
    "loss_hist = [[], [], []]\n",
    "mc_error_hist = [] # Monte-Carlo SF MSE\n",
    "step_idx = 0"
   ]
  },
  {
   "cell_type": "code",
   "execution_count": 57,
   "metadata": {},
   "outputs": [
    {
     "name": "stderr",
     "output_type": "stream",
     "text": [
      "<ipython-input-54-ab713fb06620>:38: VisibleDeprecationWarning: Creating an ndarray from ragged nested sequences (which is a list-or-tuple of lists-or-tuples-or ndarrays with different lengths or shapes) is deprecated. If you meant to do this, you must specify 'dtype=object' when creating the ndarray.\n",
      "  batch_data = np.array(batch_data)\n"
     ]
    },
    {
     "name": "stdout",
     "output_type": "stream",
     "text": [
      "Step: 20000\tLoss: 10.0398\tReward Loss: 0.9962\tTD Loss: 0.0774\tMC SF Error: 57.3826\tEx Reward: 0.01\n",
      "Step: 40000\tLoss: 9.8239\tReward Loss: 0.9798\tTD Loss: 0.0258\tMC SF Error: 50.7148\tEx Reward: 0.02\n",
      "Step: 60000\tLoss: 9.7328\tReward Loss: 0.9679\tTD Loss: 0.0540\tMC SF Error: 48.8418\tEx Reward: 0.02\n",
      "Step: 80000\tLoss: 6.6800\tReward Loss: 0.6494\tTD Loss: 0.1860\tMC SF Error: 47.0964\tEx Reward: 0.01\n",
      "Step: 100000\tLoss: 5.6983\tReward Loss: 0.5487\tTD Loss: 0.2115\tMC SF Error: 44.4869\tEx Reward: 0.01\n",
      "Step: 120000\tLoss: 5.4924\tReward Loss: 0.5233\tTD Loss: 0.2592\tMC SF Error: 44.3343\tEx Reward: 0.01\n",
      "Step: 140000\tLoss: 5.4502\tReward Loss: 0.5063\tTD Loss: 0.3868\tMC SF Error: 41.6972\tEx Reward: 0.01\n",
      "Step: 160000\tLoss: 5.3987\tReward Loss: 0.4932\tTD Loss: 0.4670\tMC SF Error: 39.4264\tEx Reward: 0.01\n",
      "Step: 180000\tLoss: 5.4955\tReward Loss: 0.4956\tTD Loss: 0.5393\tMC SF Error: 39.0077\tEx Reward: 0.02\n",
      "Step: 200000\tLoss: 5.5087\tReward Loss: 0.4902\tTD Loss: 0.6069\tMC SF Error: 37.3073\tEx Reward: 0.01\n",
      "Step: 220000\tLoss: 5.5836\tReward Loss: 0.4904\tTD Loss: 0.6795\tMC SF Error: 36.3968\tEx Reward: 0.01\n",
      "Step: 240000\tLoss: 5.6796\tReward Loss: 0.4950\tTD Loss: 0.7296\tMC SF Error: 35.0185\tEx Reward: 0.01\n",
      "Step: 260000\tLoss: 5.7460\tReward Loss: 0.4884\tTD Loss: 0.8623\tMC SF Error: 34.3883\tEx Reward: 0.01\n",
      "Step: 280000\tLoss: 5.6677\tReward Loss: 0.4867\tTD Loss: 0.8005\tMC SF Error: 33.5979\tEx Reward: 0.01\n",
      "Step: 300000\tLoss: 5.5798\tReward Loss: 0.4728\tTD Loss: 0.8520\tMC SF Error: 33.3591\tEx Reward: 0.01\n",
      "Step: 320000\tLoss: 5.9108\tReward Loss: 0.5062\tTD Loss: 0.8485\tMC SF Error: 32.9641\tEx Reward: 0.01\n",
      "Step: 340000\tLoss: 5.7563\tReward Loss: 0.4932\tTD Loss: 0.8245\tMC SF Error: 32.1760\tEx Reward: 0.00\n",
      "Step: 360000\tLoss: 5.6831\tReward Loss: 0.4795\tTD Loss: 0.8881\tMC SF Error: 32.0093\tEx Reward: 0.02\n",
      "Step: 380000\tLoss: 5.5586\tReward Loss: 0.4730\tTD Loss: 0.8284\tMC SF Error: 29.9986\tEx Reward: 0.01\n",
      "Step: 400000\tLoss: 5.5082\tReward Loss: 0.4649\tTD Loss: 0.8594\tMC SF Error: 29.5984\tEx Reward: 0.01\n",
      "Step: 420000\tLoss: 5.8798\tReward Loss: 0.4980\tTD Loss: 0.8998\tMC SF Error: 29.7512\tEx Reward: 0.02\n",
      "Step: 440000\tLoss: 5.5851\tReward Loss: 0.4729\tTD Loss: 0.8556\tMC SF Error: 28.9175\tEx Reward: 0.02\n",
      "Step: 460000\tLoss: 5.5859\tReward Loss: 0.4723\tTD Loss: 0.8630\tMC SF Error: 27.2019\tEx Reward: 0.01\n",
      "Step: 480000\tLoss: 5.7639\tReward Loss: 0.4921\tTD Loss: 0.8427\tMC SF Error: 27.3146\tEx Reward: 0.02\n",
      "Step: 500000\tLoss: 5.7701\tReward Loss: 0.4906\tTD Loss: 0.8643\tMC SF Error: 27.2213\tEx Reward: 0.03\n",
      "Step: 520000\tLoss: 5.9394\tReward Loss: 0.5122\tTD Loss: 0.8173\tMC SF Error: 27.3152\tEx Reward: 0.02\n",
      "Step: 540000\tLoss: 5.9500\tReward Loss: 0.5070\tTD Loss: 0.8796\tMC SF Error: 25.8823\tEx Reward: 0.04\n",
      "Step: 560000\tLoss: 5.7408\tReward Loss: 0.4848\tTD Loss: 0.8927\tMC SF Error: 24.2327\tEx Reward: 0.02\n",
      "Step: 580000\tLoss: 6.0412\tReward Loss: 0.5154\tTD Loss: 0.8874\tMC SF Error: 26.0824\tEx Reward: 0.04\n",
      "Step: 600000\tLoss: 6.3207\tReward Loss: 0.5491\tTD Loss: 0.8298\tMC SF Error: 26.1085\tEx Reward: 0.02\n",
      "Step: 620000\tLoss: 5.9552\tReward Loss: 0.5122\tTD Loss: 0.8329\tMC SF Error: 24.5703\tEx Reward: 0.03\n",
      "Step: 640000\tLoss: 5.9059\tReward Loss: 0.5109\tTD Loss: 0.7968\tMC SF Error: 24.0391\tEx Reward: 0.02\n",
      "Step: 660000\tLoss: 5.8769\tReward Loss: 0.5029\tTD Loss: 0.8477\tMC SF Error: 24.0154\tEx Reward: 0.01\n",
      "Step: 680000\tLoss: 5.9545\tReward Loss: 0.5120\tTD Loss: 0.8341\tMC SF Error: 24.4894\tEx Reward: 0.01\n",
      "Step: 700000\tLoss: 6.0396\tReward Loss: 0.5198\tTD Loss: 0.8419\tMC SF Error: 24.2579\tEx Reward: 0.02\n",
      "Step: 720000\tLoss: 5.8997\tReward Loss: 0.5102\tTD Loss: 0.7977\tMC SF Error: 24.0895\tEx Reward: 0.02\n",
      "Step: 740000\tLoss: 5.9974\tReward Loss: 0.5202\tTD Loss: 0.7952\tMC SF Error: 22.5903\tEx Reward: 0.04\n",
      "Step: 760000\tLoss: 5.7791\tReward Loss: 0.4975\tTD Loss: 0.8046\tMC SF Error: 20.9181\tEx Reward: 0.02\n",
      "Step: 780000\tLoss: 5.7502\tReward Loss: 0.4942\tTD Loss: 0.8081\tMC SF Error: 21.3172\tEx Reward: 0.04\n",
      "Step: 800000\tLoss: 5.6946\tReward Loss: 0.4872\tTD Loss: 0.8222\tMC SF Error: 19.8978\tEx Reward: 0.02\n",
      "Step: 820000\tLoss: 5.8498\tReward Loss: 0.5097\tTD Loss: 0.7533\tMC SF Error: 20.6388\tEx Reward: 0.01\n",
      "Step: 840000\tLoss: 5.8151\tReward Loss: 0.5066\tTD Loss: 0.7490\tMC SF Error: 20.6058\tEx Reward: 0.02\n",
      "Step: 860000\tLoss: 5.6421\tReward Loss: 0.4894\tTD Loss: 0.7483\tMC SF Error: 19.9437\tEx Reward: 0.01\n",
      "Step: 880000\tLoss: 5.5974\tReward Loss: 0.4840\tTD Loss: 0.7569\tMC SF Error: 19.5978\tEx Reward: 0.01\n",
      "Step: 900000\tLoss: 5.6765\tReward Loss: 0.4928\tTD Loss: 0.7480\tMC SF Error: 19.4378\tEx Reward: 0.02\n",
      "Step: 920000\tLoss: 5.6664\tReward Loss: 0.4921\tTD Loss: 0.7459\tMC SF Error: 18.4628\tEx Reward: 0.02\n",
      "Step: 940000\tLoss: 5.5590\tReward Loss: 0.4827\tTD Loss: 0.7316\tMC SF Error: 18.0200\tEx Reward: 0.02\n",
      "Step: 960000\tLoss: 5.5477\tReward Loss: 0.4832\tTD Loss: 0.7158\tMC SF Error: 17.1415\tEx Reward: 0.01\n",
      "Step: 980000\tLoss: 5.6457\tReward Loss: 0.4924\tTD Loss: 0.7217\tMC SF Error: 17.9602\tEx Reward: 0.01\n",
      "Step: 1000000\tLoss: 5.4961\tReward Loss: 0.4773\tTD Loss: 0.7230\tMC SF Error: 16.0973\tEx Reward: 0.02\n",
      "Step: 1020000\tLoss: 5.5567\tReward Loss: 0.4839\tTD Loss: 0.7174\tMC SF Error: 15.9083\tEx Reward: 0.02\n",
      "Step: 1040000\tLoss: 5.6289\tReward Loss: 0.4939\tTD Loss: 0.6903\tMC SF Error: 16.5964\tEx Reward: 0.02\n",
      "Step: 1060000\tLoss: 5.6048\tReward Loss: 0.4925\tTD Loss: 0.6796\tMC SF Error: 15.3152\tEx Reward: 0.02\n",
      "Step: 1080000\tLoss: 5.4879\tReward Loss: 0.4825\tTD Loss: 0.6631\tMC SF Error: 13.5663\tEx Reward: 0.01\n",
      "Step: 1100000\tLoss: 5.3992\tReward Loss: 0.4711\tTD Loss: 0.6887\tMC SF Error: 12.9909\tEx Reward: 0.01\n",
      "Step: 1120000\tLoss: 5.4706\tReward Loss: 0.4806\tTD Loss: 0.6649\tMC SF Error: 13.0177\tEx Reward: 0.02\n",
      "Step: 1140000\tLoss: 5.4190\tReward Loss: 0.4770\tTD Loss: 0.6490\tMC SF Error: 12.5307\tEx Reward: 0.03\n",
      "Step: 1160000\tLoss: 5.4982\tReward Loss: 0.4842\tTD Loss: 0.6562\tMC SF Error: 12.1668\tEx Reward: 0.02\n",
      "Step: 1180000\tLoss: 5.5057\tReward Loss: 0.4844\tTD Loss: 0.6620\tMC SF Error: 11.5424\tEx Reward: 0.01\n",
      "Step: 1200000\tLoss: 5.3706\tReward Loss: 0.4746\tTD Loss: 0.6244\tMC SF Error: 10.8693\tEx Reward: 0.02\n",
      "Step: 1220000\tLoss: 5.4599\tReward Loss: 0.4841\tTD Loss: 0.6186\tMC SF Error: 10.8716\tEx Reward: 0.03\n",
      "Step: 1240000\tLoss: 5.4865\tReward Loss: 0.4828\tTD Loss: 0.6590\tMC SF Error: 11.0218\tEx Reward: 0.05\n",
      "Step: 1260000\tLoss: 5.4644\tReward Loss: 0.4844\tTD Loss: 0.6200\tMC SF Error: 10.0318\tEx Reward: 0.03\n",
      "Step: 1280000\tLoss: 5.5243\tReward Loss: 0.4905\tTD Loss: 0.6191\tMC SF Error: 10.1361\tEx Reward: 0.02\n",
      "Step: 1300000\tLoss: 5.4679\tReward Loss: 0.4841\tTD Loss: 0.6274\tMC SF Error: 10.3609\tEx Reward: 0.02\n",
      "Step: 1320000\tLoss: 5.4913\tReward Loss: 0.4885\tTD Loss: 0.6065\tMC SF Error: 10.3361\tEx Reward: 0.03\n",
      "Step: 1340000\tLoss: 5.4216\tReward Loss: 0.4820\tTD Loss: 0.6017\tMC SF Error: 10.2207\tEx Reward: 0.03\n",
      "Step: 1360000\tLoss: 5.3014\tReward Loss: 0.4725\tTD Loss: 0.5764\tMC SF Error: 9.7129\tEx Reward: 0.03\n",
      "Step: 1380000\tLoss: 5.3840\tReward Loss: 0.4809\tTD Loss: 0.5749\tMC SF Error: 9.7297\tEx Reward: 0.02\n",
      "Step: 1400000\tLoss: 5.2787\tReward Loss: 0.4703\tTD Loss: 0.5758\tMC SF Error: 9.2587\tEx Reward: 0.04\n",
      "Step: 1420000\tLoss: 5.1522\tReward Loss: 0.4619\tTD Loss: 0.5336\tMC SF Error: 9.1354\tEx Reward: 0.04\n",
      "Step: 1440000\tLoss: 5.3062\tReward Loss: 0.4780\tTD Loss: 0.5261\tMC SF Error: 9.9707\tEx Reward: 0.03\n",
      "Step: 1460000\tLoss: 5.4900\tReward Loss: 0.4969\tTD Loss: 0.5208\tMC SF Error: 9.7998\tEx Reward: 0.03\n",
      "Step: 1480000\tLoss: 5.2985\tReward Loss: 0.4787\tTD Loss: 0.5114\tMC SF Error: 9.2358\tEx Reward: 0.06\n",
      "Step: 1500000\tLoss: 5.2983\tReward Loss: 0.4805\tTD Loss: 0.4935\tMC SF Error: 9.7215\tEx Reward: 0.04\n",
      "Step: 1520000\tLoss: 5.2595\tReward Loss: 0.4778\tTD Loss: 0.4819\tMC SF Error: 9.1187\tEx Reward: 0.04\n",
      "Step: 1540000\tLoss: 5.2582\tReward Loss: 0.4797\tTD Loss: 0.4607\tMC SF Error: 8.5750\tEx Reward: 0.03\n",
      "Step: 1560000\tLoss: 5.2486\tReward Loss: 0.4791\tTD Loss: 0.4577\tMC SF Error: 8.9815\tEx Reward: 0.04\n",
      "Step: 1580000\tLoss: 5.2455\tReward Loss: 0.4800\tTD Loss: 0.4458\tMC SF Error: 9.2302\tEx Reward: 0.03\n",
      "Step: 1600000\tLoss: 5.2292\tReward Loss: 0.4780\tTD Loss: 0.4490\tMC SF Error: 9.7681\tEx Reward: 0.02\n",
      "Step: 1620000\tLoss: 5.1950\tReward Loss: 0.4753\tTD Loss: 0.4419\tMC SF Error: 9.0783\tEx Reward: 0.03\n",
      "Step: 1640000\tLoss: 5.2128\tReward Loss: 0.4797\tTD Loss: 0.4159\tMC SF Error: 8.7163\tEx Reward: 0.05\n",
      "Step: 1660000\tLoss: 5.1640\tReward Loss: 0.4750\tTD Loss: 0.4137\tMC SF Error: 9.0488\tEx Reward: 0.06\n",
      "Step: 1680000\tLoss: 5.1913\tReward Loss: 0.4779\tTD Loss: 0.4118\tMC SF Error: 8.6953\tEx Reward: 0.03\n",
      "Step: 1700000\tLoss: 5.3055\tReward Loss: 0.4906\tTD Loss: 0.3995\tMC SF Error: 9.4235\tEx Reward: 0.04\n",
      "Step: 1720000\tLoss: 5.2419\tReward Loss: 0.4857\tTD Loss: 0.3852\tMC SF Error: 8.9403\tEx Reward: 0.04\n",
      "Step: 1740000\tLoss: 5.0519\tReward Loss: 0.4670\tTD Loss: 0.3816\tMC SF Error: 8.4111\tEx Reward: 0.04\n",
      "Step: 1760000\tLoss: 5.0482\tReward Loss: 0.4688\tTD Loss: 0.3605\tMC SF Error: 8.5523\tEx Reward: 0.04\n",
      "Step: 1780000\tLoss: 5.1347\tReward Loss: 0.4781\tTD Loss: 0.3539\tMC SF Error: 8.2416\tEx Reward: 0.04\n",
      "Step: 1800000\tLoss: 5.1035\tReward Loss: 0.4741\tTD Loss: 0.3621\tMC SF Error: 8.5049\tEx Reward: 0.08\n",
      "Step: 1820000\tLoss: 5.1225\tReward Loss: 0.4775\tTD Loss: 0.3474\tMC SF Error: 9.1031\tEx Reward: 0.03\n",
      "Step: 1840000\tLoss: 5.0869\tReward Loss: 0.4753\tTD Loss: 0.3335\tMC SF Error: 9.0079\tEx Reward: 0.03\n",
      "Step: 1860000\tLoss: 5.0029\tReward Loss: 0.4684\tTD Loss: 0.3189\tMC SF Error: 7.9948\tEx Reward: 0.04\n",
      "Step: 1880000\tLoss: 4.9947\tReward Loss: 0.4652\tTD Loss: 0.3431\tMC SF Error: 8.5409\tEx Reward: 0.02\n",
      "Step: 1900000\tLoss: 5.1017\tReward Loss: 0.4761\tTD Loss: 0.3405\tMC SF Error: 9.4909\tEx Reward: 0.04\n",
      "Step: 1920000\tLoss: 4.9112\tReward Loss: 0.4599\tTD Loss: 0.3119\tMC SF Error: 7.6226\tEx Reward: 0.05\n",
      "Step: 1940000\tLoss: 4.8070\tReward Loss: 0.4485\tTD Loss: 0.3224\tMC SF Error: 8.2127\tEx Reward: 0.04\n",
      "Step: 1960000\tLoss: 4.9622\tReward Loss: 0.4653\tTD Loss: 0.3089\tMC SF Error: 8.3519\tEx Reward: 0.04\n",
      "Step: 1980000\tLoss: 4.9777\tReward Loss: 0.4648\tTD Loss: 0.3300\tMC SF Error: 8.3104\tEx Reward: 0.04\n",
      "Step: 2000000\tLoss: 5.1755\tReward Loss: 0.4848\tTD Loss: 0.3277\tMC SF Error: 8.3432\tEx Reward: 0.05\n",
      "Step: 2020000\tLoss: 4.8749\tReward Loss: 0.4562\tTD Loss: 0.3128\tMC SF Error: 7.9445\tEx Reward: 0.05\n",
      "Step: 2040000\tLoss: 4.8633\tReward Loss: 0.4550\tTD Loss: 0.3137\tMC SF Error: 8.1795\tEx Reward: 0.03\n",
      "Step: 2060000\tLoss: 5.0438\tReward Loss: 0.4747\tTD Loss: 0.2966\tMC SF Error: 8.4298\tEx Reward: 0.02\n",
      "Step: 2080000\tLoss: 5.0372\tReward Loss: 0.4737\tTD Loss: 0.3006\tMC SF Error: 8.7640\tEx Reward: 0.04\n",
      "Step: 2100000\tLoss: 4.8566\tReward Loss: 0.4563\tTD Loss: 0.2934\tMC SF Error: 8.3148\tEx Reward: 0.03\n",
      "Step: 2120000\tLoss: 4.9697\tReward Loss: 0.4676\tTD Loss: 0.2935\tMC SF Error: 7.9646\tEx Reward: 0.03\n"
     ]
    },
    {
     "ename": "KeyboardInterrupt",
     "evalue": "",
     "output_type": "error",
     "traceback": [
      "\u001b[1;31m---------------------------------------------------------------------------\u001b[0m",
      "\u001b[1;31mKeyboardInterrupt\u001b[0m                         Traceback (most recent call last)",
      "\u001b[1;32m<ipython-input-57-101eacf70705>\u001b[0m in \u001b[0;36m<module>\u001b[1;34m\u001b[0m\n\u001b[0;32m     24\u001b[0m       \u001b[1;32mif\u001b[0m \u001b[0mgpi_steps\u001b[0m \u001b[1;33m>\u001b[0m \u001b[1;36m1\u001b[0m\u001b[1;33m:\u001b[0m\u001b[1;33m\u001b[0m\u001b[1;33m\u001b[0m\u001b[0m\n\u001b[0;32m     25\u001b[0m         \u001b[1;31m# Sample based off of successor features using with GPI\u001b[0m\u001b[1;33m\u001b[0m\u001b[1;33m\u001b[0m\u001b[0m\n\u001b[1;32m---> 26\u001b[1;33m         \u001b[0mskill_vectors\u001b[0m \u001b[1;33m=\u001b[0m \u001b[1;33m[\u001b[0m\u001b[0mskill_vector\u001b[0m\u001b[1;33m]\u001b[0m \u001b[1;33m+\u001b[0m \u001b[1;33m[\u001b[0m\u001b[0msample_skill\u001b[0m\u001b[1;33m(\u001b[0m\u001b[1;33m)\u001b[0m \u001b[1;32mfor\u001b[0m \u001b[0m_\u001b[0m \u001b[1;32min\u001b[0m \u001b[0mrange\u001b[0m\u001b[1;33m(\u001b[0m\u001b[0mgpi_steps\u001b[0m\u001b[1;33m)\u001b[0m\u001b[1;33m]\u001b[0m\u001b[1;33m\u001b[0m\u001b[1;33m\u001b[0m\u001b[0m\n\u001b[0m\u001b[0;32m     27\u001b[0m         \u001b[0mskill_vectors\u001b[0m \u001b[1;33m=\u001b[0m \u001b[0mtorch\u001b[0m\u001b[1;33m.\u001b[0m\u001b[0mstack\u001b[0m\u001b[1;33m(\u001b[0m\u001b[0mskill_vectors\u001b[0m\u001b[1;33m,\u001b[0m \u001b[0mdim\u001b[0m\u001b[1;33m=\u001b[0m\u001b[1;36m0\u001b[0m\u001b[1;33m)\u001b[0m\u001b[1;33m.\u001b[0m\u001b[0mto\u001b[0m\u001b[1;33m(\u001b[0m\u001b[0mDEVICE\u001b[0m\u001b[1;33m)\u001b[0m\u001b[1;33m\u001b[0m\u001b[1;33m\u001b[0m\u001b[0m\n\u001b[0;32m     28\u001b[0m         \u001b[1;32mwith\u001b[0m \u001b[0mtorch\u001b[0m\u001b[1;33m.\u001b[0m\u001b[0mno_grad\u001b[0m\u001b[1;33m(\u001b[0m\u001b[1;33m)\u001b[0m\u001b[1;33m:\u001b[0m\u001b[1;33m\u001b[0m\u001b[1;33m\u001b[0m\u001b[0m\n",
      "\u001b[1;32m<ipython-input-57-101eacf70705>\u001b[0m in \u001b[0;36m<listcomp>\u001b[1;34m(.0)\u001b[0m\n\u001b[0;32m     24\u001b[0m       \u001b[1;32mif\u001b[0m \u001b[0mgpi_steps\u001b[0m \u001b[1;33m>\u001b[0m \u001b[1;36m1\u001b[0m\u001b[1;33m:\u001b[0m\u001b[1;33m\u001b[0m\u001b[1;33m\u001b[0m\u001b[0m\n\u001b[0;32m     25\u001b[0m         \u001b[1;31m# Sample based off of successor features using with GPI\u001b[0m\u001b[1;33m\u001b[0m\u001b[1;33m\u001b[0m\u001b[0m\n\u001b[1;32m---> 26\u001b[1;33m         \u001b[0mskill_vectors\u001b[0m \u001b[1;33m=\u001b[0m \u001b[1;33m[\u001b[0m\u001b[0mskill_vector\u001b[0m\u001b[1;33m]\u001b[0m \u001b[1;33m+\u001b[0m \u001b[1;33m[\u001b[0m\u001b[0msample_skill\u001b[0m\u001b[1;33m(\u001b[0m\u001b[1;33m)\u001b[0m \u001b[1;32mfor\u001b[0m \u001b[0m_\u001b[0m \u001b[1;32min\u001b[0m \u001b[0mrange\u001b[0m\u001b[1;33m(\u001b[0m\u001b[0mgpi_steps\u001b[0m\u001b[1;33m)\u001b[0m\u001b[1;33m]\u001b[0m\u001b[1;33m\u001b[0m\u001b[1;33m\u001b[0m\u001b[0m\n\u001b[0m\u001b[0;32m     27\u001b[0m         \u001b[0mskill_vectors\u001b[0m \u001b[1;33m=\u001b[0m \u001b[0mtorch\u001b[0m\u001b[1;33m.\u001b[0m\u001b[0mstack\u001b[0m\u001b[1;33m(\u001b[0m\u001b[0mskill_vectors\u001b[0m\u001b[1;33m,\u001b[0m \u001b[0mdim\u001b[0m\u001b[1;33m=\u001b[0m\u001b[1;36m0\u001b[0m\u001b[1;33m)\u001b[0m\u001b[1;33m.\u001b[0m\u001b[0mto\u001b[0m\u001b[1;33m(\u001b[0m\u001b[0mDEVICE\u001b[0m\u001b[1;33m)\u001b[0m\u001b[1;33m\u001b[0m\u001b[1;33m\u001b[0m\u001b[0m\n\u001b[0;32m     28\u001b[0m         \u001b[1;32mwith\u001b[0m \u001b[0mtorch\u001b[0m\u001b[1;33m.\u001b[0m\u001b[0mno_grad\u001b[0m\u001b[1;33m(\u001b[0m\u001b[1;33m)\u001b[0m\u001b[1;33m:\u001b[0m\u001b[1;33m\u001b[0m\u001b[1;33m\u001b[0m\u001b[0m\n",
      "\u001b[1;32m<ipython-input-56-5105af988620>\u001b[0m in \u001b[0;36m<lambda>\u001b[1;34m()\u001b[0m\n\u001b[0;32m      9\u001b[0m \u001b[0moptimizer\u001b[0m \u001b[1;33m=\u001b[0m \u001b[0mtorch\u001b[0m\u001b[1;33m.\u001b[0m\u001b[0moptim\u001b[0m\u001b[1;33m.\u001b[0m\u001b[0mAdam\u001b[0m\u001b[1;33m(\u001b[0m\u001b[0mmodel\u001b[0m\u001b[1;33m.\u001b[0m\u001b[0mparameters\u001b[0m\u001b[1;33m(\u001b[0m\u001b[1;33m)\u001b[0m\u001b[1;33m,\u001b[0m \u001b[0mlr\u001b[0m\u001b[1;33m=\u001b[0m\u001b[0mlr\u001b[0m\u001b[1;33m,\u001b[0m \u001b[0meps\u001b[0m\u001b[1;33m=\u001b[0m\u001b[1;36m1e-5\u001b[0m\u001b[1;33m)\u001b[0m\u001b[1;33m\u001b[0m\u001b[1;33m\u001b[0m\u001b[0m\n\u001b[0;32m     10\u001b[0m \u001b[1;33m\u001b[0m\u001b[0m\n\u001b[1;32m---> 11\u001b[1;33m \u001b[0msample_skill\u001b[0m \u001b[1;33m=\u001b[0m \u001b[1;32mlambda\u001b[0m\u001b[1;33m:\u001b[0m \u001b[0msample_sphere\u001b[0m\u001b[1;33m(\u001b[0m\u001b[0membed_dim\u001b[0m\u001b[1;33m)\u001b[0m\u001b[1;33m[\u001b[0m\u001b[1;36m0\u001b[0m\u001b[1;33m]\u001b[0m\u001b[1;33m\u001b[0m\u001b[1;33m\u001b[0m\u001b[0m\n\u001b[0m\u001b[0;32m     12\u001b[0m \u001b[1;33m\u001b[0m\u001b[0m\n\u001b[0;32m     13\u001b[0m \u001b[0mexp_buffer\u001b[0m \u001b[1;33m=\u001b[0m \u001b[1;33m[\u001b[0m\u001b[1;33m]\u001b[0m \u001b[1;31m# [[obs, act, next_obs, reward, done, skill_vector], ...]\u001b[0m\u001b[1;33m\u001b[0m\u001b[1;33m\u001b[0m\u001b[0m\n",
      "\u001b[1;32m<ipython-input-34-59cf1f2eed13>\u001b[0m in \u001b[0;36msample_sphere\u001b[1;34m(dim, n)\u001b[0m\n\u001b[0;32m      3\u001b[0m   \u001b[0munnormed\u001b[0m \u001b[1;33m=\u001b[0m \u001b[0mnp\u001b[0m\u001b[1;33m.\u001b[0m\u001b[0mrandom\u001b[0m\u001b[1;33m.\u001b[0m\u001b[0mrandn\u001b[0m\u001b[1;33m(\u001b[0m\u001b[0mn\u001b[0m\u001b[1;33m,\u001b[0m \u001b[0mdim\u001b[0m\u001b[1;33m)\u001b[0m\u001b[1;33m\u001b[0m\u001b[1;33m\u001b[0m\u001b[0m\n\u001b[0;32m      4\u001b[0m   \u001b[0marr\u001b[0m \u001b[1;33m=\u001b[0m \u001b[0munnormed\u001b[0m \u001b[1;33m/\u001b[0m \u001b[0mnp\u001b[0m\u001b[1;33m.\u001b[0m\u001b[0mlinalg\u001b[0m\u001b[1;33m.\u001b[0m\u001b[0mnorm\u001b[0m\u001b[1;33m(\u001b[0m\u001b[0munnormed\u001b[0m\u001b[1;33m,\u001b[0m \u001b[0maxis\u001b[0m\u001b[1;33m=\u001b[0m\u001b[1;33m-\u001b[0m\u001b[1;36m1\u001b[0m\u001b[1;33m,\u001b[0m \u001b[0mkeepdims\u001b[0m\u001b[1;33m=\u001b[0m\u001b[1;32mTrue\u001b[0m\u001b[1;33m)\u001b[0m\u001b[1;33m\u001b[0m\u001b[1;33m\u001b[0m\u001b[0m\n\u001b[1;32m----> 5\u001b[1;33m   \u001b[1;32mreturn\u001b[0m \u001b[0mtorch\u001b[0m\u001b[1;33m.\u001b[0m\u001b[0mFloatTensor\u001b[0m\u001b[1;33m(\u001b[0m\u001b[0marr\u001b[0m\u001b[1;33m)\u001b[0m\u001b[1;33m\u001b[0m\u001b[1;33m\u001b[0m\u001b[0m\n\u001b[0m\u001b[0;32m      6\u001b[0m \u001b[1;33m\u001b[0m\u001b[0m\n\u001b[0;32m      7\u001b[0m \u001b[1;32mdef\u001b[0m \u001b[0msample_batch\u001b[0m\u001b[1;33m(\u001b[0m\u001b[0mbuffer\u001b[0m\u001b[1;33m,\u001b[0m \u001b[0mn\u001b[0m\u001b[1;33m)\u001b[0m\u001b[1;33m:\u001b[0m\u001b[1;33m\u001b[0m\u001b[1;33m\u001b[0m\u001b[0m\n",
      "\u001b[1;31mKeyboardInterrupt\u001b[0m: "
     ]
    }
   ],
   "source": [
    "# Episode loop\n",
    "episodes_passed = 0\n",
    "n_updates = 0\n",
    "for episode_idx in range(n_episodes):\n",
    "  obs = explore_env.reset()\n",
    "\n",
    "  skill_vector = sample_skill()\n",
    "\n",
    "  with torch.no_grad():\n",
    "    ep_real_sfs, ep_pred_sfs = model(\n",
    "        obs.unsqueeze(0).to(DEVICE), \n",
    "        skill_vector.unsqueeze(0).to(DEVICE))\n",
    "  ep_real_sfs, ep_pred_sfs = ep_real_sfs[0], ep_pred_sfs[0]\n",
    "\n",
    "  ep_rewards = []\n",
    "  done = False\n",
    "  ep_step_idx = 0\n",
    "  while not done:\n",
    "    # Sample an action\n",
    "    if np.random.rand() < get_act_epsilon(step_idx):\n",
    "      # Random sample\n",
    "      act = explore_env.action_space.sample()\n",
    "    else:\n",
    "      if gpi_steps > 1:\n",
    "        # Sample based off of successor features using with GPI\n",
    "        skill_vectors = [skill_vector] + [sample_skill() for _ in range(gpi_steps)]\n",
    "        skill_vectors = torch.stack(skill_vectors, dim=0).to(DEVICE)\n",
    "        with torch.no_grad():\n",
    "          _, sfs = model(torch.stack((gpi_steps+1)*[obs], dim=0).to(DEVICE),\n",
    "                         skill_vectors)\n",
    "        sfs = sfs.cpu()\n",
    "        q_vals = torch.bmm(sfs, torch.stack((gpi_steps+1)*[skill_vector], dim=0).unsqueeze(2)).squeeze()\n",
    "        act = torch.argmax(q_vals.view(-1)) % q_vals.shape[1]\n",
    "      else:\n",
    "        # Sample based off of successor features\n",
    "        with torch.no_grad():\n",
    "          _, sfs = model(obs.unsqueeze(0).to(DEVICE),\n",
    "                         skill_vector.unsqueeze(0).to(DEVICE))\n",
    "        sfs = sfs.cpu()\n",
    "        q_vals = torch.matmul(sfs[0], skill_vector.unsqueeze(1)).squeeze()\n",
    "        act = torch.argmax(q_vals).item()\n",
    "\n",
    "    # Select the sfs for the action that was taken\n",
    "    # This is just used for metrics later\n",
    "    if ep_step_idx == 0:\n",
    "      ep_pred_sfs = ep_pred_sfs[act]\n",
    "\n",
    "    # Take a step\n",
    "    next_obs, reward, done, _ = explore_env.step(act)\n",
    "    exp_buffer.append([np.array(copy.deepcopy(obs)), act,\n",
    "                       np.array(copy.deepcopy(next_obs)),\n",
    "                       reward, done, np.array(copy.deepcopy(skill_vector))])\n",
    "    ep_rewards.append(reward)\n",
    "    obs = next_obs\n",
    "    \n",
    "    # Update real sfs for the episode later used for metrics\n",
    "    with torch.no_grad():\n",
    "      features = model(obs.unsqueeze(0).to(DEVICE))[0][0]\n",
    "    ep_real_sfs += features * gamma ** (ep_step_idx + 1)\n",
    "\n",
    "    # Delete extra data from the experience buffer\n",
    "    exp_buffer_overflow = len(exp_buffer) - exp_buffer_size\n",
    "    if exp_buffer_overflow > 0:\n",
    "      exp_buffer = exp_buffer[-int(0.9*exp_buffer_size):]\n",
    "    \n",
    "    # Update the model\n",
    "    # if step_idx % update_freq == 0 and len(exp_buffer) >= batch_size:\n",
    "      # batch_data = sample_batch(exp_buffer, batch_size)\n",
    "    if done:\n",
    "      batch_data = sample_recent_batch(exp_buffer, update_freq)\n",
    "      loss, reward_loss, td_loss = model.train(\n",
    "          batch_data, optimizer, reward_loss_weight=get_reward_weight(step_idx),\n",
    "          gamma=gamma, target_model=target_model)\n",
    "      for i, l in enumerate([loss, reward_loss, td_loss]):\n",
    "        loss_hist[i].append(l.item())\n",
    "      batch_data = []\n",
    "      n_updates += 1\n",
    "\n",
    "      if n_updates % target_update_freq == 0:\n",
    "        target_model = copy.deepcopy(model)\n",
    "\n",
    "    # Print the agent training status\n",
    "    if step_idx > 0 and step_idx % print_freq == 0:\n",
    "      lookback = print_freq // update_freq\n",
    "      print('Step: {}\\tLoss: {:.4f}\\tReward Loss: {:.4f}\\tTD Loss: {:.4f}\\tMC SF Error: {:.4f}\\tEx Reward: {:.2f}'\n",
    "        .format(step_idx, *[np.mean(loss_hist[i][-lookback:]) \\\n",
    "                            for i in range(len(loss_hist))],\n",
    "                np.mean(mc_error_hist[-episodes_passed:]),\n",
    "                np.mean(all_rewards[-episodes_passed:])))\n",
    "      episodes_passed = 0\n",
    "    \n",
    "    step_idx += 1\n",
    "    ep_step_idx += 1\n",
    "\n",
    "  # TODO: Calculate this for every step\n",
    "  sf_pred_mse = torch.mean((ep_pred_sfs - ep_real_sfs) ** 2).item()\n",
    "  mc_error_hist.append(sf_pred_mse)\n",
    "  episodes_passed += 1\n",
    "  all_rewards.append(sum(ep_rewards))"
   ]
  },
  {
   "cell_type": "code",
   "execution_count": null,
   "metadata": {},
   "outputs": [],
   "source": [
    "# Step: 20000\tLoss: 9.9526\tReward Loss: 0.9880\tTD Loss: 0.0725\tMC SF Error: 57.4083\tEx Reward: 0.02\n",
    "# Step: 40000\tLoss: 9.4065\tReward Loss: 0.9387\tTD Loss: 0.0195\tMC SF Error: 50.4786\tEx Reward: 0.01\n",
    "# Step: 60000\tLoss: 8.1938\tReward Loss: 0.8048\tTD Loss: 0.1459\tMC SF Error: 47.8892\tEx Reward: 0.01\n",
    "# Step: 80000\tLoss: 6.5390\tReward Loss: 0.6367\tTD Loss: 0.1722\tMC SF Error: 44.4449\tEx Reward: 0.01\n",
    "# Step: 100000\tLoss: 6.2017\tReward Loss: 0.5987\tTD Loss: 0.2147\tMC SF Error: 43.3388\tEx Reward: 0.01\n",
    "# Step: 120000\tLoss: 5.9788\tReward Loss: 0.5683\tTD Loss: 0.2958\tMC SF Error: 40.9765\tEx Reward: 0.00\n",
    "# Step: 140000\tLoss: 5.9726\tReward Loss: 0.5571\tTD Loss: 0.4017\tMC SF Error: 38.2554\tEx Reward: 0.00\n",
    "# Step: 160000\tLoss: 6.1303\tReward Loss: 0.5638\tTD Loss: 0.4920\tMC SF Error: 37.4894\tEx Reward: 0.00\n",
    "# Step: 180000\tLoss: 6.1443\tReward Loss: 0.5558\tTD Loss: 0.5862\tMC SF Error: 35.3755\tEx Reward: 0.00\n",
    "# Step: 200000\tLoss: 6.2427\tReward Loss: 0.5550\tTD Loss: 0.6924\tMC SF Error: 35.5315\tEx Reward: 0.00\n",
    "# Step: 220000\tLoss: 6.3678\tReward Loss: 0.5599\tTD Loss: 0.7688\tMC SF Error: 33.0670\tEx Reward: 0.00\n",
    "# Step: 240000\tLoss: 6.3795\tReward Loss: 0.5613\tTD Loss: 0.7661\tMC SF Error: 32.0787\tEx Reward: 0.00\n",
    "# Step: 260000\tLoss: 6.4978\tReward Loss: 0.5725\tTD Loss: 0.7730\tMC SF Error: 32.1853\tEx Reward: 0.00\n",
    "# Step: 280000\tLoss: 6.2509\tReward Loss: 0.5446\tTD Loss: 0.8050\tMC SF Error: 30.1279\tEx Reward: 0.01\n",
    "# Step: 300000\tLoss: 6.4819\tReward Loss: 0.5676\tTD Loss: 0.8055\tMC SF Error: 29.8950\tEx Reward: 0.00\n",
    "# Step: 320000\tLoss: 6.3092\tReward Loss: 0.5496\tTD Loss: 0.8130\tMC SF Error: 27.6254\tEx Reward: 0.01\n",
    "# Step: 340000\tLoss: 6.3341\tReward Loss: 0.5529\tTD Loss: 0.8055\tMC SF Error: 29.4794\tEx Reward: 0.04\n",
    "# Step: 360000\tLoss: 6.5599\tReward Loss: 0.5712\tTD Loss: 0.8483\tMC SF Error: 27.7667\tEx Reward: 0.01\n",
    "# Step: 380000\tLoss: 6.3814\tReward Loss: 0.5568\tTD Loss: 0.8138\tMC SF Error: 26.4587\tEx Reward: 0.04\n",
    "# Step: 400000\tLoss: 6.2590\tReward Loss: 0.5509\tTD Loss: 0.7501\tMC SF Error: 26.1812\tEx Reward: 0.01\n",
    "# Step: 420000\tLoss: 6.1381\tReward Loss: 0.5423\tTD Loss: 0.7151\tMC SF Error: 24.8446\tEx Reward: 0.04"
   ]
  },
  {
   "cell_type": "code",
   "execution_count": 43,
   "metadata": {},
   "outputs": [],
   "source": [
    "# sfs = []\n",
    "# for episode in episodes:\n",
    "#     sfs.append([])\n",
    "    \n",
    "#     for trans in episode[1:]:"
   ]
  },
  {
   "cell_type": "code",
   "execution_count": 58,
   "metadata": {},
   "outputs": [
    {
     "data": {
      "image/png": "[encoded data removed]",
      "text/plain": [
       "<Figure size 432x288 with 1 Axes>"
      ]
     },
     "metadata": {
      "needs_background": "light"
     },
     "output_type": "display_data"
    },
    {
     "data": {
      "image/png": "[encoded data removed]",
      "text/plain": [
       "<Figure size 432x288 with 1 Axes>"
      ]
     },
     "metadata": {
      "needs_background": "light"
     },
     "output_type": "display_data"
    },
    {
     "data": {
      "image/png": "[encoded data removed]",
      "text/plain": [
       "<Figure size 432x288 with 1 Axes>"
      ]
     },
     "metadata": {
      "needs_background": "light"
     },
     "output_type": "display_data"
    },
    {
     "data": {
      "image/png": "[encoded data removed]",
      "text/plain": [
       "<Figure size 432x288 with 1 Axes>"
      ]
     },
     "metadata": {
      "needs_background": "light"
     },
     "output_type": "display_data"
    }
   ],
   "source": [
    "loss_labels = ['total loss', 'reward loss', 'td loss']\n",
    "window = 100 // 2\n",
    "for i, label in enumerate(loss_labels):\n",
    "  plt.title(label)\n",
    "  smoothed_loss = [np.mean(loss_hist[i][j-window:j+window]) \\\n",
    "    for j in range(window, len(loss_hist[i])-window)]\n",
    "  plt.plot(smoothed_loss, label=label)\n",
    "  plt.show()\n",
    "\n",
    "plt.title('MC SF Error')\n",
    "smoothed_error = [np.mean(mc_error_hist[j-window:j+window]) \\\n",
    "  for j in range(window, len(mc_error_hist)-window)]\n",
    "plt.plot(smoothed_error, label='MC SF Error')\n",
    "plt.show()"
   ]
  },
  {
   "cell_type": "markdown",
   "metadata": {},
   "source": [
    "# Testing"
   ]
  },
  {
   "cell_type": "code",
   "execution_count": 125,
   "metadata": {},
   "outputs": [],
   "source": [
    "def fit_skill_vector(skill_vector, batch_data, optimizer, model):\n",
    "    device = next(model.parameters()).device\n",
    "\n",
    "    batch_data = np.array(batch_data)\n",
    "    obs, _, _, rewards, _, _ = \\\n",
    "      [torch.from_numpy(np.stack(batch_data[:, i])).to(device) \\\n",
    "      for i in range(batch_data.shape[1])]\n",
    "\n",
    "    batch_svs = einops.repeat(skill_vector, 'e -> b e', b=obs.shape[0])\n",
    "    batch_svs = batch_svs.to(device)\n",
    "    with torch.no_grad():\n",
    "      features, _ = model(obs, batch_svs)\n",
    "\n",
    "    pred_rewards = torch.bmm(features.unsqueeze(1), batch_svs.unsqueeze(2))\n",
    "    pred_rewards = pred_rewards.squeeze()\n",
    "\n",
    "    residuals = (rewards - pred_rewards) ** 2\n",
    "    loss = residuals.mean()\n",
    "\n",
    "    optimizer.zero_grad()\n",
    "    loss.backward()\n",
    "    optimizer.step()\n",
    "\n",
    "    return loss.item()"
   ]
  },
  {
   "cell_type": "code",
   "execution_count": 126,
   "metadata": {},
   "outputs": [
    {
     "name": "stderr",
     "output_type": "stream",
     "text": [
      "<ipython-input-125-c75b48d8f687>:4: VisibleDeprecationWarning: Creating an ndarray from ragged nested sequences (which is a list-or-tuple of lists-or-tuples-or ndarrays with different lengths or shapes) is deprecated. If you meant to do this, you must specify 'dtype=object' when creating the ndarray.\n",
      "  batch_data = np.array(batch_data)\n"
     ]
    },
    {
     "ename": "KeyboardInterrupt",
     "evalue": "",
     "output_type": "error",
     "traceback": [
      "\u001b[1;31m---------------------------------------------------------------------------\u001b[0m",
      "\u001b[1;31mKeyboardInterrupt\u001b[0m                         Traceback (most recent call last)",
      "\u001b[1;32m<ipython-input-126-155973ea718c>\u001b[0m in \u001b[0;36m<module>\u001b[1;34m\u001b[0m\n\u001b[0;32m     18\u001b[0m   \u001b[1;32mif\u001b[0m \u001b[0mstep_idx\u001b[0m \u001b[1;33m%\u001b[0m \u001b[1;36m2\u001b[0m \u001b[1;33m==\u001b[0m \u001b[1;36m0\u001b[0m\u001b[1;33m:\u001b[0m\u001b[1;33m\u001b[0m\u001b[1;33m\u001b[0m\u001b[0m\n\u001b[0;32m     19\u001b[0m     \u001b[1;32mwhile\u001b[0m \u001b[1;32mnot\u001b[0m \u001b[0msum\u001b[0m\u001b[1;33m(\u001b[0m\u001b[1;33m[\u001b[0m\u001b[0mx\u001b[0m\u001b[1;33m[\u001b[0m\u001b[1;36m3\u001b[0m\u001b[1;33m]\u001b[0m \u001b[1;32mfor\u001b[0m \u001b[0mx\u001b[0m \u001b[1;32min\u001b[0m \u001b[0mbatch_data\u001b[0m\u001b[1;33m]\u001b[0m\u001b[1;33m)\u001b[0m\u001b[1;33m:\u001b[0m\u001b[1;33m\u001b[0m\u001b[1;33m\u001b[0m\u001b[0m\n\u001b[1;32m---> 20\u001b[1;33m       \u001b[0mbatch_data\u001b[0m \u001b[1;33m=\u001b[0m \u001b[0msample_batch\u001b[0m\u001b[1;33m(\u001b[0m\u001b[0mexp_buffer\u001b[0m\u001b[1;33m,\u001b[0m \u001b[0mds_batch_size\u001b[0m\u001b[1;33m)\u001b[0m\u001b[1;33m\u001b[0m\u001b[1;33m\u001b[0m\u001b[0m\n\u001b[0m\u001b[0;32m     21\u001b[0m \u001b[1;33m\u001b[0m\u001b[0m\n\u001b[0;32m     22\u001b[0m \u001b[1;33m\u001b[0m\u001b[0m\n",
      "\u001b[1;32m<ipython-input-34-59cf1f2eed13>\u001b[0m in \u001b[0;36msample_batch\u001b[1;34m(buffer, n)\u001b[0m\n\u001b[0;32m      6\u001b[0m \u001b[1;33m\u001b[0m\u001b[0m\n\u001b[0;32m      7\u001b[0m \u001b[1;32mdef\u001b[0m \u001b[0msample_batch\u001b[0m\u001b[1;33m(\u001b[0m\u001b[0mbuffer\u001b[0m\u001b[1;33m,\u001b[0m \u001b[0mn\u001b[0m\u001b[1;33m)\u001b[0m\u001b[1;33m:\u001b[0m\u001b[1;33m\u001b[0m\u001b[1;33m\u001b[0m\u001b[0m\n\u001b[1;32m----> 8\u001b[1;33m   \u001b[0mdata_idxs\u001b[0m \u001b[1;33m=\u001b[0m \u001b[0mnp\u001b[0m\u001b[1;33m.\u001b[0m\u001b[0mrandom\u001b[0m\u001b[1;33m.\u001b[0m\u001b[0mchoice\u001b[0m\u001b[1;33m(\u001b[0m\u001b[0mrange\u001b[0m\u001b[1;33m(\u001b[0m\u001b[0mlen\u001b[0m\u001b[1;33m(\u001b[0m\u001b[0mbuffer\u001b[0m\u001b[1;33m)\u001b[0m\u001b[1;33m)\u001b[0m\u001b[1;33m,\u001b[0m \u001b[0msize\u001b[0m\u001b[1;33m=\u001b[0m\u001b[0mn\u001b[0m\u001b[1;33m,\u001b[0m \u001b[0mreplace\u001b[0m\u001b[1;33m=\u001b[0m\u001b[1;32mFalse\u001b[0m\u001b[1;33m)\u001b[0m\u001b[1;33m\u001b[0m\u001b[1;33m\u001b[0m\u001b[0m\n\u001b[0m\u001b[0;32m      9\u001b[0m   \u001b[0mbatch_data\u001b[0m \u001b[1;33m=\u001b[0m \u001b[1;33m[\u001b[0m\u001b[1;33m]\u001b[0m\u001b[1;33m\u001b[0m\u001b[1;33m\u001b[0m\u001b[0m\n\u001b[0;32m     10\u001b[0m   \u001b[1;32mfor\u001b[0m \u001b[0mi\u001b[0m \u001b[1;32min\u001b[0m \u001b[0mdata_idxs\u001b[0m\u001b[1;33m:\u001b[0m\u001b[1;33m\u001b[0m\u001b[1;33m\u001b[0m\u001b[0m\n",
      "\u001b[1;31mKeyboardInterrupt\u001b[0m: "
     ]
    }
   ],
   "source": [
    "fit_steps = 500\n",
    "ds_batch_size = 128\n",
    "ds_print_freq = 50\n",
    "test_episodes = 100\n",
    "\n",
    "ds_lr = 1e-3\n",
    "\n",
    "skill_vector = sample_skill()\n",
    "skill_vector.requires_grad = True\n",
    "\n",
    "env = explore_env\n",
    "\n",
    "sv_optimizer = torch.optim.Adam((skill_vector,), lr=ds_lr)\n",
    "\n",
    "sv_losses = []\n",
    "for step_idx in range(fit_steps):\n",
    "  batch_data = sample_batch(exp_buffer, ds_batch_size)\n",
    "  if step_idx % 2 == 0:\n",
    "    while not sum([x[3] for x in batch_data]):\n",
    "      batch_data = sample_batch(exp_buffer, ds_batch_size)\n",
    "    \n",
    "\n",
    "  loss = fit_skill_vector(skill_vector, batch_data, sv_optimizer, model)\n",
    "  sv_losses.append(loss)\n",
    "\n",
    "  if step_idx != 0 and step_idx % ds_print_freq == 0:\n",
    "    print('SV Reward Loss: {:.4f}'.format(np.mean(sv_losses[-ds_print_freq:])))"
   ]
  },
  {
   "cell_type": "code",
   "execution_count": 59,
   "metadata": {},
   "outputs": [
    {
     "ename": "NameError",
     "evalue": "name 'test_episodes' is not defined",
     "output_type": "error",
     "traceback": [
      "\u001b[1;31m---------------------------------------------------------------------------\u001b[0m",
      "\u001b[1;31mNameError\u001b[0m                                 Traceback (most recent call last)",
      "\u001b[1;32m<ipython-input-59-f0a095e4d8b1>\u001b[0m in \u001b[0;36m<module>\u001b[1;34m\u001b[0m\n\u001b[0;32m      1\u001b[0m \u001b[0mtest_rewards\u001b[0m \u001b[1;33m=\u001b[0m \u001b[1;33m[\u001b[0m\u001b[1;33m]\u001b[0m\u001b[1;33m\u001b[0m\u001b[1;33m\u001b[0m\u001b[0m\n\u001b[0;32m      2\u001b[0m \u001b[0mtest_hist\u001b[0m \u001b[1;33m=\u001b[0m \u001b[1;33m[\u001b[0m\u001b[1;33m]\u001b[0m\u001b[1;33m\u001b[0m\u001b[1;33m\u001b[0m\u001b[0m\n\u001b[1;32m----> 3\u001b[1;33m \u001b[1;32mfor\u001b[0m \u001b[0mepisode_idx\u001b[0m \u001b[1;32min\u001b[0m \u001b[0mtqdm\u001b[0m\u001b[1;33m(\u001b[0m\u001b[0mrange\u001b[0m\u001b[1;33m(\u001b[0m\u001b[0mtest_episodes\u001b[0m\u001b[1;33m)\u001b[0m\u001b[1;33m)\u001b[0m\u001b[1;33m:\u001b[0m\u001b[1;33m\u001b[0m\u001b[1;33m\u001b[0m\u001b[0m\n\u001b[0m\u001b[0;32m      4\u001b[0m   \u001b[0mobs\u001b[0m \u001b[1;33m=\u001b[0m \u001b[0menv\u001b[0m\u001b[1;33m.\u001b[0m\u001b[0mreset\u001b[0m\u001b[1;33m(\u001b[0m\u001b[1;33m)\u001b[0m\u001b[1;33m\u001b[0m\u001b[1;33m\u001b[0m\u001b[0m\n\u001b[0;32m      5\u001b[0m   \u001b[0mtest_hist\u001b[0m\u001b[1;33m.\u001b[0m\u001b[0mappend\u001b[0m\u001b[1;33m(\u001b[0m\u001b[1;33m[\u001b[0m\u001b[0mobs\u001b[0m\u001b[1;33m]\u001b[0m\u001b[1;33m)\u001b[0m\u001b[1;33m\u001b[0m\u001b[1;33m\u001b[0m\u001b[0m\n",
      "\u001b[1;31mNameError\u001b[0m: name 'test_episodes' is not defined"
     ]
    }
   ],
   "source": [
    "test_rewards = []\n",
    "test_hist = []\n",
    "for episode_idx in tqdm(range(test_episodes)):\n",
    "  obs = env.reset()\n",
    "  test_hist.append([obs])\n",
    "\n",
    "  ep_rewards = []\n",
    "  done = False\n",
    "  while not done:\n",
    "    # Sample an action\n",
    "    if np.random.rand() < end_act_epsilon:\n",
    "      act = env.action_space.sample()\n",
    "    else:\n",
    "      with torch.no_grad():\n",
    "        _, sfs = model(obs.unsqueeze(0).to(DEVICE),\n",
    "                       skill_vector.unsqueeze(0).to(DEVICE))\n",
    "      sfs = sfs.cpu()\n",
    "      q_vals = torch.matmul(sfs[0], skill_vector.unsqueeze(1))\n",
    "      act = torch.argmax(q_vals).item()\n",
    "\n",
    "    # Make a step\n",
    "    next_obs, reward, done, _ = env.step(act)\n",
    "    reward = np.float32(reward)\n",
    "    ep_rewards.append(reward)\n",
    "    obs = next_obs\n",
    "    test_hist[-1].append(obs)\n",
    "\n",
    "  test_rewards.append(sum(ep_rewards))\n",
    "\n",
    "print('Test Avg. Reward: {:.2f}'.format(np.mean(test_rewards)))"
   ]
  },
  {
   "cell_type": "code",
   "execution_count": null,
   "metadata": {},
   "outputs": [],
   "source": [
    "plt.imshow(test_hist[23][30][0])"
   ]
  },
  {
   "cell_type": "code",
   "execution_count": null,
   "metadata": {},
   "outputs": [],
   "source": [
    "batch_data = sample_batch(exp_buffer, ds_batch_size)"
   ]
  },
  {
   "cell_type": "code",
   "execution_count": null,
   "metadata": {},
   "outputs": [],
   "source": []
  },
  {
   "cell_type": "code",
   "execution_count": 60,
   "metadata": {},
   "outputs": [],
   "source": [
    "env = explore_env"
   ]
  },
  {
   "cell_type": "code",
   "execution_count": 61,
   "metadata": {},
   "outputs": [],
   "source": [
    "obs_list = []\n",
    "reward_list = []\n",
    "map_pos_list = []\n",
    "for i in range(1, map_shape[0]-1):\n",
    "    for j in range(1, map_shape[1]-1):\n",
    "        env.reset()\n",
    "        obs, reward, done, _ = env.jump_to_state([i, j])\n",
    "        obs_list.append(obs)\n",
    "        reward_list.append(reward)\n",
    "        map_pos_list.append([i, j])"
   ]
  },
  {
   "cell_type": "code",
   "execution_count": 62,
   "metadata": {},
   "outputs": [],
   "source": [
    "# Least square fit to find skill vector\n",
    "features, _ = model(torch.tensor(obs_list, dtype=torch.float32).to(DEVICE))\n",
    "reward_matrix = torch.tensor(reward_list, dtype=torch.float32).unsqueeze(1).to(DEVICE)\n",
    "# TODO: Normalize the skill vector\n",
    "skill_vector = torch.linalg.lstsq(features, reward_matrix)[0]\n",
    "skill_vector = skill_vector / torch.linalg.norm(skill_vector)\n",
    "pred_rewards = torch.matmul(features, skill_vector)"
   ]
  },
  {
   "cell_type": "code",
   "execution_count": 63,
   "metadata": {},
   "outputs": [],
   "source": [
    "reward_map = np.zeros(map_shape)\n",
    "min_reward = min(pred_rewards.view(-1)).item()\n",
    "for i in range(1, map_shape[0]-1):\n",
    "    for j in range(1, map_shape[1]-1):\n",
    "        reward_map[i, j] = pred_rewards[(j-1) + (i-1) * (map_shape[0]-2)].item() - min_reward"
   ]
  },
  {
   "cell_type": "code",
   "execution_count": 64,
   "metadata": {},
   "outputs": [
    {
     "data": {
      "text/plain": [
       "<matplotlib.image.AxesImage at 0x21abcd0b4c0>"
      ]
     },
     "execution_count": 64,
     "metadata": {},
     "output_type": "execute_result"
    },
    {
     "data": {
      "image/png": "[encoded data removed]",
      "text/plain": [
       "<Figure size 432x288 with 1 Axes>"
      ]
     },
     "metadata": {
      "needs_background": "light"
     },
     "output_type": "display_data"
    }
   ],
   "source": [
    "plt.imshow(reward_map)"
   ]
  },
  {
   "cell_type": "code",
   "execution_count": 77,
   "metadata": {},
   "outputs": [],
   "source": [
    "# sorted(zip(map_pos_list, torch.matmul(features, skill_vector).squeeze()), reverse=True, key=lambda x: x[1])"
   ]
  },
  {
   "cell_type": "code",
   "execution_count": 70,
   "metadata": {},
   "outputs": [
    {
     "name": "stderr",
     "output_type": "stream",
     "text": [
      "100%|██████████| 100/100 [00:01<00:00, 76.92it/s]"
     ]
    },
    {
     "name": "stdout",
     "output_type": "stream",
     "text": [
      "Test Avg. Reward: 0.17\n"
     ]
    },
    {
     "name": "stderr",
     "output_type": "stream",
     "text": [
      "\n"
     ]
    }
   ],
   "source": [
    "fit_steps = 500\n",
    "ds_batch_size = 128\n",
    "ds_print_freq = 50\n",
    "test_episodes = 100\n",
    "\n",
    "test_rewards = []\n",
    "test_hist = []\n",
    "for episode_idx in tqdm(range(test_episodes)):\n",
    "  obs = env.reset()\n",
    "  test_hist.append([obs])\n",
    "\n",
    "  ep_rewards = []\n",
    "  done = False\n",
    "  while not done:\n",
    "    # Sample an action\n",
    "    if np.random.rand() < end_act_epsilon:\n",
    "      act = env.action_space.sample()\n",
    "    else:\n",
    "      with torch.no_grad():\n",
    "        _, sfs = model(obs.unsqueeze(0).to(DEVICE),\n",
    "                       skill_vector.squeeze().unsqueeze(0).to(DEVICE))\n",
    "      sfs = sfs.cpu()\n",
    "      q_vals = torch.matmul(sfs[0], skill_vector)\n",
    "      act = torch.argmax(q_vals).item()\n",
    "\n",
    "    # Make a step\n",
    "    next_obs, reward, done, _ = env.step(act)\n",
    "    reward = np.float32(reward)\n",
    "    ep_rewards.append(reward)\n",
    "    obs = next_obs\n",
    "    test_hist[-1].append(obs)\n",
    "\n",
    "  test_rewards.append(sum(ep_rewards))\n",
    "\n",
    "print('Test Avg. Reward: {:.2f}'.format(np.mean(test_rewards)))"
   ]
  },
  {
   "cell_type": "code",
   "execution_count": 124,
   "metadata": {},
   "outputs": [
    {
     "data": {
      "text/plain": [
       "<matplotlib.image.AxesImage at 0x21abb7a6760>"
      ]
     },
     "execution_count": 124,
     "metadata": {},
     "output_type": "execute_result"
    },
    {
     "data": {
      "image/png": "[encoded data removed]",
      "text/plain": [
       "<Figure size 432x288 with 1 Axes>"
      ]
     },
     "metadata": {
      "needs_background": "light"
     },
     "output_type": "display_data"
    }
   ],
   "source": [
    "plt.imshow(test_hist[20][20][0])"
   ]
  },
  {
   "cell_type": "code",
   "execution_count": null,
   "metadata": {},
   "outputs": [],
   "source": []
  },
  {
   "cell_type": "code",
   "execution_count": null,
   "metadata": {},
   "outputs": [],
   "source": [
    "rc = 0\n",
    "tc = 0\n",
    "\n",
    "for i, sample in enumerate(exp_buffer):\n",
    "    if sample[3] != 0:\n",
    "        print(i)\n",
    "        rc += 1\n",
    "        break\n",
    "    if sample[4]:\n",
    "        tc += 1\n",
    "\n",
    "rc, tc"
   ]
  },
  {
   "cell_type": "code",
   "execution_count": null,
   "metadata": {},
   "outputs": [],
   "source": [
    "obs, act, next_obs, reward, terminal, sv = batch_data[0]"
   ]
  },
  {
   "cell_type": "code",
   "execution_count": null,
   "metadata": {},
   "outputs": [],
   "source": [
    "reward, terminal"
   ]
  },
  {
   "cell_type": "code",
   "execution_count": null,
   "metadata": {},
   "outputs": [],
   "source": []
  },
  {
   "cell_type": "code",
   "execution_count": null,
   "metadata": {},
   "outputs": [],
   "source": []
  },
  {
   "cell_type": "code",
   "execution_count": null,
   "metadata": {},
   "outputs": [],
   "source": []
  },
  {
   "cell_type": "code",
   "execution_count": null,
   "metadata": {},
   "outputs": [],
   "source": []
  },
  {
   "cell_type": "markdown",
   "metadata": {},
   "source": [
    "# Analysis Ideas\n",
    "\n",
    "1. Look into why the TD loss starts to rise after seemingly settling\n",
    "    - Does the behavior of the agent start changing?\n",
    "2. Look at the state visitation distribution over time\n",
    "3. Try decouipling the two learning vectors\n",
    "4. See if we can predict a path given a the predicted successor features\n",
    "    - Check the difference between actual predicted SFs and real ones (not a bootstrapped target)\n",
    "5. Calculate the real SFs for the starts of several trajectories and look at the ranges\n",
    "    - Are the ranges too large?\n",
    "    - Would they be easier to predict if there was some sort of normalization?\n",
    "6. Look into how the average length of episodes affects learning and losses\n",
    "7. Look into how the stochastic termination affects learning and losses"
   ]
  },
  {
   "cell_type": "code",
   "execution_count": null,
   "metadata": {},
   "outputs": [],
   "source": [
    "loss_labels = ['total loss', 'reward loss', 'td loss']\n",
    "window = 100 // 2\n",
    "for i, label in enumerate(loss_labels):\n",
    "  plt.title(label)\n",
    "  smoothed_loss = [np.mean(loss_hist[i][j-window:j+window]) \\\n",
    "    for j in range(window, len(loss_hist[i])-window)]\n",
    "  plt.plot(smoothed_loss, label=label)\n",
    "  plt.show()"
   ]
  }
 ],
 "metadata": {
  "interpreter": {
   "hash": "6717cf457fe527f2ad07ab71b4770f157b357bf37d07e7427487ba89b10c0212"
  },
  "kernelspec": {
   "display_name": "Python 3.9.7 ('ml2')",
   "language": "python",
   "name": "python3"
  },
  "language_info": {
   "codemirror_mode": {
    "name": "ipython",
    "version": 3
   },
   "file_extension": ".py",
   "mimetype": "text/x-python",
   "name": "python",
   "nbconvert_exporter": "python",
   "pygments_lexer": "ipython3",
   "version": "3.9.7"
  },
  "orig_nbformat": 4
 },
 "nbformat": 4,
 "nbformat_minor": 2
}
